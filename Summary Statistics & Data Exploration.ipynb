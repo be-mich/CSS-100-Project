{
 "cells": [
  {
   "cell_type": "markdown",
   "id": "7e2db312",
   "metadata": {},
   "source": [
    "This notebook will conduct data exploration on San Diego RIPA data. "
   ]
  },
  {
   "cell_type": "markdown",
   "id": "5bd7d518",
   "metadata": {},
   "source": [
    "First, drop unnecessary columns. These columns will not be used in the later analysis due to their textual nature. Information derived from these columns has been encoded."
   ]
  },
  {
   "cell_type": "code",
   "execution_count": 1,
   "id": "f26b88b0",
   "metadata": {},
   "outputs": [],
   "source": [
    "%store -r ripa_all_combo"
   ]
  },
  {
   "cell_type": "code",
   "execution_count": 2,
   "id": "b84f0155",
   "metadata": {},
   "outputs": [
    {
     "data": {
      "text/html": [
       "<div>\n",
       "<style scoped>\n",
       "    .dataframe tbody tr th:only-of-type {\n",
       "        vertical-align: middle;\n",
       "    }\n",
       "\n",
       "    .dataframe tbody tr th {\n",
       "        vertical-align: top;\n",
       "    }\n",
       "\n",
       "    .dataframe thead th {\n",
       "        text-align: right;\n",
       "    }\n",
       "</style>\n",
       "<table border=\"1\" class=\"dataframe\">\n",
       "  <thead>\n",
       "    <tr style=\"text-align: right;\">\n",
       "      <th></th>\n",
       "      <th>stop_id</th>\n",
       "      <th>ori</th>\n",
       "      <th>agency</th>\n",
       "      <th>exp_years</th>\n",
       "      <th>date_stop</th>\n",
       "      <th>time_stop</th>\n",
       "      <th>stopduration</th>\n",
       "      <th>stop_in_response_to_cfs</th>\n",
       "      <th>officer_assignment_key</th>\n",
       "      <th>assignment</th>\n",
       "      <th>...</th>\n",
       "      <th>resulttext</th>\n",
       "      <th>race</th>\n",
       "      <th>reason_for_stop</th>\n",
       "      <th>reason_for_stopcode</th>\n",
       "      <th>reason_for_stop_code_text</th>\n",
       "      <th>reason_for_stop_detail</th>\n",
       "      <th>reason_for_stop_explanation</th>\n",
       "      <th>action</th>\n",
       "      <th>consented</th>\n",
       "      <th>contraband</th>\n",
       "    </tr>\n",
       "  </thead>\n",
       "  <tbody>\n",
       "    <tr>\n",
       "      <th>0</th>\n",
       "      <td>2443</td>\n",
       "      <td>CA0371100</td>\n",
       "      <td>SD</td>\n",
       "      <td>10</td>\n",
       "      <td>2018-07-01</td>\n",
       "      <td>00:01:37</td>\n",
       "      <td>30</td>\n",
       "      <td>0</td>\n",
       "      <td>1</td>\n",
       "      <td>Patrol, traffic enforcement, field operations</td>\n",
       "      <td>...</td>\n",
       "      <td>647(F) PC - DISORD CONDUCT:ALCOHOL (M) 64005</td>\n",
       "      <td>White</td>\n",
       "      <td>Reasonable Suspicion</td>\n",
       "      <td>64005</td>\n",
       "      <td>647(F) PC - DISORD CONDUCT:ALCOHOL (M) 64005</td>\n",
       "      <td>Officer witnessed commission of a crime</td>\n",
       "      <td>staggering, unable to safely walk</td>\n",
       "      <td>None</td>\n",
       "      <td>NaN</td>\n",
       "      <td>None</td>\n",
       "    </tr>\n",
       "    <tr>\n",
       "      <th>1</th>\n",
       "      <td>2444</td>\n",
       "      <td>CA0371100</td>\n",
       "      <td>SD</td>\n",
       "      <td>18</td>\n",
       "      <td>2018-07-01</td>\n",
       "      <td>00:03:34</td>\n",
       "      <td>10</td>\n",
       "      <td>0</td>\n",
       "      <td>1</td>\n",
       "      <td>Patrol, traffic enforcement, field operations</td>\n",
       "      <td>...</td>\n",
       "      <td>22349(B) VC - EXC 55MPH SPEED:2 LANE RD (I) 54395</td>\n",
       "      <td>White</td>\n",
       "      <td>Traffic Violation</td>\n",
       "      <td>54106</td>\n",
       "      <td>22350 VC - UNSAFE SPEED:PREVAIL COND (I) 54106</td>\n",
       "      <td>Moving Violation</td>\n",
       "      <td>Speeding</td>\n",
       "      <td>None</td>\n",
       "      <td>NaN</td>\n",
       "      <td>None</td>\n",
       "    </tr>\n",
       "    <tr>\n",
       "      <th>2</th>\n",
       "      <td>2447</td>\n",
       "      <td>CA0371100</td>\n",
       "      <td>SD</td>\n",
       "      <td>1</td>\n",
       "      <td>2018-07-01</td>\n",
       "      <td>00:05:43</td>\n",
       "      <td>15</td>\n",
       "      <td>1</td>\n",
       "      <td>10</td>\n",
       "      <td>Other</td>\n",
       "      <td>...</td>\n",
       "      <td>NaN</td>\n",
       "      <td>Hispanic/Latino/a</td>\n",
       "      <td>Reasonable Suspicion</td>\n",
       "      <td>53072</td>\n",
       "      <td>415(1) PC - FIGHT IN PUBLIC PLACE (M) 53072</td>\n",
       "      <td>Matched suspect description</td>\n",
       "      <td>Both parties involved in argument.</td>\n",
       "      <td>Curbside detention</td>\n",
       "      <td>NaN</td>\n",
       "      <td>None</td>\n",
       "    </tr>\n",
       "    <tr>\n",
       "      <th>3</th>\n",
       "      <td>2447</td>\n",
       "      <td>CA0371100</td>\n",
       "      <td>SD</td>\n",
       "      <td>1</td>\n",
       "      <td>2018-07-01</td>\n",
       "      <td>00:05:43</td>\n",
       "      <td>15</td>\n",
       "      <td>1</td>\n",
       "      <td>10</td>\n",
       "      <td>Other</td>\n",
       "      <td>...</td>\n",
       "      <td>NaN</td>\n",
       "      <td>Hispanic/Latino/a</td>\n",
       "      <td>Reasonable Suspicion</td>\n",
       "      <td>53072</td>\n",
       "      <td>415(1) PC - FIGHT IN PUBLIC PLACE (M) 53072</td>\n",
       "      <td>Other Reasonable Suspicion of a crime</td>\n",
       "      <td>Both parties engaged in argument.</td>\n",
       "      <td>Curbside detention</td>\n",
       "      <td>NaN</td>\n",
       "      <td>None</td>\n",
       "    </tr>\n",
       "    <tr>\n",
       "      <th>4</th>\n",
       "      <td>2448</td>\n",
       "      <td>CA0371100</td>\n",
       "      <td>SD</td>\n",
       "      <td>3</td>\n",
       "      <td>2018-07-01</td>\n",
       "      <td>00:19:06</td>\n",
       "      <td>5</td>\n",
       "      <td>0</td>\n",
       "      <td>1</td>\n",
       "      <td>Patrol, traffic enforcement, field operations</td>\n",
       "      <td>...</td>\n",
       "      <td>NaN</td>\n",
       "      <td>White</td>\n",
       "      <td>Traffic Violation</td>\n",
       "      <td>54106</td>\n",
       "      <td>22350 VC - UNSAFE SPEED:PREVAIL COND (I) 54106</td>\n",
       "      <td>Moving Violation</td>\n",
       "      <td>UNSAFE DRIVING</td>\n",
       "      <td>None</td>\n",
       "      <td>NaN</td>\n",
       "      <td>None</td>\n",
       "    </tr>\n",
       "  </tbody>\n",
       "</table>\n",
       "<p>5 rows × 42 columns</p>\n",
       "</div>"
      ],
      "text/plain": [
       "   stop_id        ori agency  exp_years   date_stop time_stop  stopduration  \\\n",
       "0     2443  CA0371100     SD         10  2018-07-01  00:01:37            30   \n",
       "1     2444  CA0371100     SD         18  2018-07-01  00:03:34            10   \n",
       "2     2447  CA0371100     SD          1  2018-07-01  00:05:43            15   \n",
       "3     2447  CA0371100     SD          1  2018-07-01  00:05:43            15   \n",
       "4     2448  CA0371100     SD          3  2018-07-01  00:19:06             5   \n",
       "\n",
       "   stop_in_response_to_cfs  officer_assignment_key  \\\n",
       "0                        0                       1   \n",
       "1                        0                       1   \n",
       "2                        1                      10   \n",
       "3                        1                      10   \n",
       "4                        0                       1   \n",
       "\n",
       "                                      assignment  ...  \\\n",
       "0  Patrol, traffic enforcement, field operations  ...   \n",
       "1  Patrol, traffic enforcement, field operations  ...   \n",
       "2                                          Other  ...   \n",
       "3                                          Other  ...   \n",
       "4  Patrol, traffic enforcement, field operations  ...   \n",
       "\n",
       "                                          resulttext               race  \\\n",
       "0       647(F) PC - DISORD CONDUCT:ALCOHOL (M) 64005              White   \n",
       "1  22349(B) VC - EXC 55MPH SPEED:2 LANE RD (I) 54395              White   \n",
       "2                                                NaN  Hispanic/Latino/a   \n",
       "3                                                NaN  Hispanic/Latino/a   \n",
       "4                                                NaN              White   \n",
       "\n",
       "        reason_for_stop reason_for_stopcode  \\\n",
       "0  Reasonable Suspicion               64005   \n",
       "1     Traffic Violation               54106   \n",
       "2  Reasonable Suspicion               53072   \n",
       "3  Reasonable Suspicion               53072   \n",
       "4     Traffic Violation               54106   \n",
       "\n",
       "                        reason_for_stop_code_text  \\\n",
       "0    647(F) PC - DISORD CONDUCT:ALCOHOL (M) 64005   \n",
       "1  22350 VC - UNSAFE SPEED:PREVAIL COND (I) 54106   \n",
       "2     415(1) PC - FIGHT IN PUBLIC PLACE (M) 53072   \n",
       "3     415(1) PC - FIGHT IN PUBLIC PLACE (M) 53072   \n",
       "4  22350 VC - UNSAFE SPEED:PREVAIL COND (I) 54106   \n",
       "\n",
       "                    reason_for_stop_detail  \\\n",
       "0  Officer witnessed commission of a crime   \n",
       "1                         Moving Violation   \n",
       "2              Matched suspect description   \n",
       "3    Other Reasonable Suspicion of a crime   \n",
       "4                         Moving Violation   \n",
       "\n",
       "          reason_for_stop_explanation              action  consented  \\\n",
       "0   staggering, unable to safely walk                None        NaN   \n",
       "1                            Speeding                None        NaN   \n",
       "2  Both parties involved in argument.  Curbside detention        NaN   \n",
       "3   Both parties engaged in argument.  Curbside detention        NaN   \n",
       "4                      UNSAFE DRIVING                None        NaN   \n",
       "\n",
       "  contraband  \n",
       "0       None  \n",
       "1       None  \n",
       "2       None  \n",
       "3       None  \n",
       "4       None  \n",
       "\n",
       "[5 rows x 42 columns]"
      ]
     },
     "execution_count": 2,
     "metadata": {},
     "output_type": "execute_result"
    }
   ],
   "source": [
    "ripa_all_combo.head()"
   ]
  },
  {
   "cell_type": "code",
   "execution_count": 3,
   "id": "2806f669",
   "metadata": {},
   "outputs": [
    {
     "name": "stdout",
     "output_type": "stream",
     "text": [
      "Index(['stop_id', 'ori', 'agency', 'exp_years', 'date_stop', 'time_stop',\n",
      "       'stopduration', 'stop_in_response_to_cfs', 'officer_assignment_key',\n",
      "       'assignment', 'intersection', 'address_block', 'land_mark',\n",
      "       'address_street', 'highway_exit', 'isschool', 'school_name',\n",
      "       'address_city', 'beat', 'beat_name', 'pid', 'isstudent',\n",
      "       'perceived_limited_english', 'perceived_age', 'perceived_gender',\n",
      "       'gender_nonconforming', 'gend', 'gend_nc', 'perceived_lgbt',\n",
      "       'resultkey', 'result', 'code', 'resulttext', 'race', 'reason_for_stop',\n",
      "       'reason_for_stopcode', 'reason_for_stop_code_text',\n",
      "       'reason_for_stop_detail', 'reason_for_stop_explanation', 'action',\n",
      "       'consented', 'contraband'],\n",
      "      dtype='object')\n"
     ]
    }
   ],
   "source": [
    "print(ripa_all_combo.columns)"
   ]
  },
  {
   "cell_type": "code",
   "execution_count": 4,
   "id": "25de596a",
   "metadata": {},
   "outputs": [
    {
     "name": "stdout",
     "output_type": "stream",
     "text": [
      "Index(['stop_id', 'exp_years', 'date_stop', 'time_stop', 'stopduration',\n",
      "       'stop_in_response_to_cfs', 'officer_assignment_key', 'assignment',\n",
      "       'isschool', 'beat', 'pid', 'isstudent', 'perceived_limited_english',\n",
      "       'perceived_age', 'perceived_gender', 'gender_nonconforming', 'gend',\n",
      "       'gend_nc', 'perceived_lgbt', 'resultkey', 'result', 'code', 'race',\n",
      "       'reason_for_stop', 'reason_for_stopcode', 'action', 'consented',\n",
      "       'contraband'],\n",
      "      dtype='object')\n"
     ]
    }
   ],
   "source": [
    "ripa_data = ripa_all_combo.drop(['ori','agency','intersection','highway_exit','land_mark',\n",
    "                                'address_street','address_block','address_city','school_name',\n",
    "                                'beat_name','resulttext','reason_for_stop_code_text','reason_for_stop_detail',\n",
    "                                'reason_for_stop_explanation'], axis=1)\n",
    "print(ripa_data.columns)"
   ]
  },
  {
   "cell_type": "markdown",
   "id": "27449b6f",
   "metadata": {},
   "source": [
    "Now some data exploration"
   ]
  },
  {
   "cell_type": "code",
   "execution_count": 5,
   "id": "2596e93a",
   "metadata": {},
   "outputs": [
    {
     "name": "stdout",
     "output_type": "stream",
     "text": [
      "stop_id                        int64\n",
      "exp_years                      int64\n",
      "date_stop                     object\n",
      "time_stop                     object\n",
      "stopduration                   int64\n",
      "stop_in_response_to_cfs        int64\n",
      "officer_assignment_key         int64\n",
      "assignment                    object\n",
      "isschool                       int64\n",
      "beat                           int64\n",
      "pid                            int64\n",
      "isstudent                      int64\n",
      "perceived_limited_english      int64\n",
      "perceived_age                  int64\n",
      "perceived_gender              object\n",
      "gender_nonconforming           int64\n",
      "gend                           int64\n",
      "gend_nc                      float64\n",
      "perceived_lgbt                object\n",
      "resultkey                      int64\n",
      "result                        object\n",
      "code                         float64\n",
      "race                          object\n",
      "reason_for_stop               object\n",
      "reason_for_stopcode           object\n",
      "action                        object\n",
      "consented                     object\n",
      "contraband                    object\n",
      "dtype: object\n"
     ]
    }
   ],
   "source": [
    "print(ripa_data.dtypes)"
   ]
  },
  {
   "cell_type": "markdown",
   "id": "87aa8ab8",
   "metadata": {},
   "source": [
    "some columns are object datatypes because encoded as Yes/No. Other columns are object datatypes because they are text; these columns will be kept for now to preserve information until unecessary. "
   ]
  },
  {
   "cell_type": "code",
   "execution_count": 6,
   "id": "6334b959",
   "metadata": {},
   "outputs": [
    {
     "data": {
      "text/plain": [
       "(529600, 28)"
      ]
     },
     "execution_count": 6,
     "metadata": {},
     "output_type": "execute_result"
    }
   ],
   "source": [
    "#how many observations and how many attributes\n",
    "ripa_data.shape"
   ]
  },
  {
   "cell_type": "code",
   "execution_count": 7,
   "id": "ebd92034",
   "metadata": {},
   "outputs": [
    {
     "data": {
      "text/plain": [
       "stop_id                           0\n",
       "exp_years                         0\n",
       "date_stop                         0\n",
       "time_stop                         0\n",
       "stopduration                      0\n",
       "stop_in_response_to_cfs           0\n",
       "officer_assignment_key            0\n",
       "assignment                        0\n",
       "isschool                          0\n",
       "beat                              0\n",
       "pid                               0\n",
       "isstudent                         0\n",
       "perceived_limited_english         0\n",
       "perceived_age                     0\n",
       "perceived_gender                152\n",
       "gender_nonconforming              0\n",
       "gend                              0\n",
       "gend_nc                      529322\n",
       "perceived_lgbt                    0\n",
       "resultkey                         0\n",
       "result                            0\n",
       "code                         227492\n",
       "race                              0\n",
       "reason_for_stop                   0\n",
       "reason_for_stopcode           26411\n",
       "action                            0\n",
       "consented                    520968\n",
       "contraband                        0\n",
       "dtype: int64"
      ]
     },
     "execution_count": 7,
     "metadata": {},
     "output_type": "execute_result"
    }
   ],
   "source": [
    "#presence of missing numbers \n",
    "\n",
    "ripa_data.isnull().sum()"
   ]
  },
  {
   "cell_type": "markdown",
   "id": "9a7ce07a",
   "metadata": {},
   "source": [
    "Most columns do not have missing values. For those that do, they deserve additional investigation. \n",
    "The perceived_gender column is missing values; however gend is not. Is there a difference between these two columns, it is unclear as of now since the dictionary states both are the officer's perceived gender of the individuals. \n",
    "gender_nc was endocded as No Data-No, 5-Yes.\n",
    "Code is the \"specific violation is stop outcome is warning, citation, or custodial arrest(code)\". So missing data when outcome not one of the aforementioned results.\n",
    "reason_for_stopcode is included if \"... reason for stop is traffic violation or reasonable suspicion of criminal acitivity\".\n",
    "Consented only has data if the individuals stopped consented to a search, so in most cases the individuals did consent to a search."
   ]
  },
  {
   "cell_type": "markdown",
   "id": "d51c56e5",
   "metadata": {},
   "source": [
    "Check differences among the different gender columns"
   ]
  },
  {
   "cell_type": "code",
   "execution_count": 8,
   "id": "2d812d4a",
   "metadata": {},
   "outputs": [
    {
     "data": {
      "text/plain": [
       "Male                      386042\n",
       "Female                    142001\n",
       "Transgender man/boy          767\n",
       "Transgender woman/girl       638\n",
       "Name: perceived_gender, dtype: int64"
      ]
     },
     "execution_count": 8,
     "metadata": {},
     "output_type": "execute_result"
    }
   ],
   "source": [
    "ripa_data['perceived_gender'].value_counts()"
   ]
  },
  {
   "cell_type": "code",
   "execution_count": 9,
   "id": "3cff24d6",
   "metadata": {},
   "outputs": [
    {
     "data": {
      "text/plain": [
       "1    386042\n",
       "2    142001\n",
       "3       767\n",
       "4       638\n",
       "0       152\n",
       "Name: gend, dtype: int64"
      ]
     },
     "execution_count": 9,
     "metadata": {},
     "output_type": "execute_result"
    }
   ],
   "source": [
    "ripa_data['gend'].value_counts()"
   ]
  },
  {
   "cell_type": "code",
   "execution_count": 10,
   "id": "51766317",
   "metadata": {},
   "outputs": [
    {
     "data": {
      "text/plain": [
       "0    529322\n",
       "1       278\n",
       "Name: gender_nonconforming, dtype: int64"
      ]
     },
     "execution_count": 10,
     "metadata": {},
     "output_type": "execute_result"
    }
   ],
   "source": [
    "ripa_data['gender_nonconforming'].value_counts()"
   ]
  },
  {
   "cell_type": "code",
   "execution_count": 11,
   "id": "ef19cd23",
   "metadata": {},
   "outputs": [
    {
     "data": {
      "text/plain": [
       "5.0    278\n",
       "Name: gend_nc, dtype: int64"
      ]
     },
     "execution_count": 11,
     "metadata": {},
     "output_type": "execute_result"
    }
   ],
   "source": [
    "ripa_data['gend_nc'].value_counts()"
   ]
  },
  {
   "cell_type": "markdown",
   "id": "61595f55",
   "metadata": {},
   "source": [
    "so columna 'gend_nc' and 'gender_nonconforming' are the same. Column 'gend' has additional values than colun 'perceived_gender'."
   ]
  },
  {
   "cell_type": "code",
   "execution_count": 12,
   "id": "7eceff59",
   "metadata": {},
   "outputs": [
    {
     "data": {
      "text/html": [
       "<div>\n",
       "<style scoped>\n",
       "    .dataframe tbody tr th:only-of-type {\n",
       "        vertical-align: middle;\n",
       "    }\n",
       "\n",
       "    .dataframe tbody tr th {\n",
       "        vertical-align: top;\n",
       "    }\n",
       "\n",
       "    .dataframe thead th {\n",
       "        text-align: right;\n",
       "    }\n",
       "</style>\n",
       "<table border=\"1\" class=\"dataframe\">\n",
       "  <thead>\n",
       "    <tr style=\"text-align: right;\">\n",
       "      <th></th>\n",
       "      <th>gend</th>\n",
       "      <th>perceived_gender</th>\n",
       "      <th>gender_nonconforming</th>\n",
       "    </tr>\n",
       "  </thead>\n",
       "  <tbody>\n",
       "    <tr>\n",
       "      <th>270</th>\n",
       "      <td>0</td>\n",
       "      <td>NaN</td>\n",
       "      <td>1</td>\n",
       "    </tr>\n",
       "    <tr>\n",
       "      <th>3945</th>\n",
       "      <td>0</td>\n",
       "      <td>NaN</td>\n",
       "      <td>1</td>\n",
       "    </tr>\n",
       "    <tr>\n",
       "      <th>4507</th>\n",
       "      <td>0</td>\n",
       "      <td>NaN</td>\n",
       "      <td>1</td>\n",
       "    </tr>\n",
       "    <tr>\n",
       "      <th>4685</th>\n",
       "      <td>0</td>\n",
       "      <td>NaN</td>\n",
       "      <td>1</td>\n",
       "    </tr>\n",
       "    <tr>\n",
       "      <th>5052</th>\n",
       "      <td>0</td>\n",
       "      <td>NaN</td>\n",
       "      <td>1</td>\n",
       "    </tr>\n",
       "    <tr>\n",
       "      <th>...</th>\n",
       "      <td>...</td>\n",
       "      <td>...</td>\n",
       "      <td>...</td>\n",
       "    </tr>\n",
       "    <tr>\n",
       "      <th>511932</th>\n",
       "      <td>0</td>\n",
       "      <td>NaN</td>\n",
       "      <td>1</td>\n",
       "    </tr>\n",
       "    <tr>\n",
       "      <th>517862</th>\n",
       "      <td>0</td>\n",
       "      <td>NaN</td>\n",
       "      <td>1</td>\n",
       "    </tr>\n",
       "    <tr>\n",
       "      <th>520168</th>\n",
       "      <td>0</td>\n",
       "      <td>NaN</td>\n",
       "      <td>1</td>\n",
       "    </tr>\n",
       "    <tr>\n",
       "      <th>526386</th>\n",
       "      <td>0</td>\n",
       "      <td>NaN</td>\n",
       "      <td>1</td>\n",
       "    </tr>\n",
       "    <tr>\n",
       "      <th>526502</th>\n",
       "      <td>0</td>\n",
       "      <td>NaN</td>\n",
       "      <td>1</td>\n",
       "    </tr>\n",
       "  </tbody>\n",
       "</table>\n",
       "<p>152 rows × 3 columns</p>\n",
       "</div>"
      ],
      "text/plain": [
       "        gend perceived_gender  gender_nonconforming\n",
       "270        0              NaN                     1\n",
       "3945       0              NaN                     1\n",
       "4507       0              NaN                     1\n",
       "4685       0              NaN                     1\n",
       "5052       0              NaN                     1\n",
       "...      ...              ...                   ...\n",
       "511932     0              NaN                     1\n",
       "517862     0              NaN                     1\n",
       "520168     0              NaN                     1\n",
       "526386     0              NaN                     1\n",
       "526502     0              NaN                     1\n",
       "\n",
       "[152 rows x 3 columns]"
      ]
     },
     "execution_count": 12,
     "metadata": {},
     "output_type": "execute_result"
    }
   ],
   "source": [
    "ripa_data[ripa_data['gend']==0][['gend','perceived_gender','gender_nonconforming']]"
   ]
  },
  {
   "cell_type": "markdown",
   "id": "7a319a2c",
   "metadata": {},
   "source": [
    "https://oag.ca.gov/sites/all/files/agweb/pdfs/ripa/stop-data-reg-final-text-110717.pdf?\n",
    "\n",
    "So the fifth element in the 'gend' column is referring to gender noncomforming. Columns 'gender_nonconforming' and 'gend' have different values because according to the data documentation \"... an officer may select 'gender nonconforming' in addition to any of the other data values, if applicable.\" \n",
    "\n",
    "So we can keep columns: 'gen','gender_nonconforming'"
   ]
  },
  {
   "cell_type": "code",
   "execution_count": 13,
   "id": "a576e466",
   "metadata": {},
   "outputs": [],
   "source": [
    "ripa_data = ripa_data.drop(['perceived_gender'], axis=1)"
   ]
  },
  {
   "cell_type": "code",
   "execution_count": 19,
   "id": "bcef5aa9",
   "metadata": {},
   "outputs": [
    {
     "name": "stdout",
     "output_type": "stream",
     "text": [
      "Stored 'ripa_data' (DataFrame)\n"
     ]
    }
   ],
   "source": [
    "#save data set\n",
    "\n",
    "%store ripa_data"
   ]
  },
  {
   "cell_type": "markdown",
   "id": "d40c1b1b",
   "metadata": {},
   "source": [
    "Now to check for any outliers "
   ]
  },
  {
   "cell_type": "code",
   "execution_count": 15,
   "id": "20ec3896",
   "metadata": {},
   "outputs": [
    {
     "data": {
      "text/plain": [
       "1     187515\n",
       "3      45353\n",
       "2      41552\n",
       "5      38500\n",
       "4      33459\n",
       "10     22624\n",
       "11     15787\n",
       "18     15570\n",
       "9      14235\n",
       "12     12325\n",
       "6      11601\n",
       "20     11164\n",
       "15      8248\n",
       "14      8226\n",
       "8       7177\n",
       "19      6642\n",
       "13      6409\n",
       "7       6139\n",
       "24      6030\n",
       "30      5026\n",
       "17      4415\n",
       "23      3779\n",
       "29      3397\n",
       "16      3121\n",
       "22      2939\n",
       "28      2617\n",
       "21      1795\n",
       "26      1380\n",
       "25       951\n",
       "27       836\n",
       "32       322\n",
       "48       231\n",
       "31       113\n",
       "33        49\n",
       "45        36\n",
       "49        23\n",
       "50         6\n",
       "34         3\n",
       "36         2\n",
       "37         2\n",
       "35         1\n",
       "Name: exp_years, dtype: int64"
      ]
     },
     "execution_count": 15,
     "metadata": {},
     "output_type": "execute_result"
    }
   ],
   "source": [
    "#are there outliers in experience of years for the officer \n",
    "ripa_data['exp_years'].value_counts()"
   ]
  },
  {
   "cell_type": "code",
   "execution_count": 16,
   "id": "0f4c6760",
   "metadata": {},
   "outputs": [
    {
     "data": {
      "text/plain": [
       "3.0"
      ]
     },
     "execution_count": 16,
     "metadata": {},
     "output_type": "execute_result"
    }
   ],
   "source": [
    "ripa_data['exp_years'].median() #lets see how data distributed"
   ]
  },
  {
   "cell_type": "markdown",
   "id": "6ca5a1bb",
   "metadata": {},
   "source": [
    "The median experience an officer has is low. So this distribution has a long tail"
   ]
  },
  {
   "cell_type": "code",
   "execution_count": 17,
   "id": "86b61cfa",
   "metadata": {},
   "outputs": [
    {
     "data": {
      "text/plain": [
       "10     127385\n",
       "15      63811\n",
       "5       57473\n",
       "20      52907\n",
       "30      36609\n",
       "        ...  \n",
       "234         1\n",
       "228         1\n",
       "224         1\n",
       "222         1\n",
       "511         1\n",
       "Name: stopduration, Length: 371, dtype: int64"
      ]
     },
     "execution_count": 17,
     "metadata": {},
     "output_type": "execute_result"
    }
   ],
   "source": [
    "ripa_data['stopduration'].value_counts()"
   ]
  },
  {
   "cell_type": "code",
   "execution_count": 18,
   "id": "4229c9b7",
   "metadata": {},
   "outputs": [
    {
     "data": {
      "text/plain": [
       "15.0"
      ]
     },
     "execution_count": 18,
     "metadata": {},
     "output_type": "execute_result"
    }
   ],
   "source": [
    "ripa_data['stopduration'].median()"
   ]
  },
  {
   "cell_type": "markdown",
   "id": "18ab36f2",
   "metadata": {},
   "source": [
    "Stop duration has a long tailed distribution! Few stops last for >200 minutes"
   ]
  },
  {
   "cell_type": "markdown",
   "id": "cd3132a9",
   "metadata": {},
   "source": [
    "Now lets look at some summary stats "
   ]
  },
  {
   "cell_type": "code",
   "execution_count": 20,
   "id": "b9f7c007",
   "metadata": {},
   "outputs": [
    {
     "data": {
      "text/plain": [
       "count    529600.000000\n",
       "mean          6.466161\n",
       "std           7.187756\n",
       "min           1.000000\n",
       "25%           1.000000\n",
       "50%           3.000000\n",
       "75%          10.000000\n",
       "max          50.000000\n",
       "Name: exp_years, dtype: float64"
      ]
     },
     "execution_count": 20,
     "metadata": {},
     "output_type": "execute_result"
    }
   ],
   "source": [
    "ripa_data['exp_years'].describe()"
   ]
  },
  {
   "cell_type": "code",
   "execution_count": 21,
   "id": "48684169",
   "metadata": {},
   "outputs": [
    {
     "data": {
      "text/plain": [
       "count    529600.000000\n",
       "mean         28.324239\n",
       "std          50.069074\n",
       "min           1.000000\n",
       "25%          10.000000\n",
       "50%          15.000000\n",
       "75%          28.000000\n",
       "max        1440.000000\n",
       "Name: stopduration, dtype: float64"
      ]
     },
     "execution_count": 21,
     "metadata": {},
     "output_type": "execute_result"
    }
   ],
   "source": [
    "ripa_data['stopduration'].describe()"
   ]
  },
  {
   "cell_type": "code",
   "execution_count": 22,
   "id": "aa54b4b1",
   "metadata": {},
   "outputs": [
    {
     "data": {
      "text/plain": [
       "count    529600.000000\n",
       "mean         37.233801\n",
       "std          13.417861\n",
       "min           1.000000\n",
       "25%          26.000000\n",
       "50%          35.000000\n",
       "75%          46.000000\n",
       "max         120.000000\n",
       "Name: perceived_age, dtype: float64"
      ]
     },
     "execution_count": 22,
     "metadata": {},
     "output_type": "execute_result"
    }
   ],
   "source": [
    "ripa_data['perceived_age'].describe()"
   ]
  },
  {
   "cell_type": "markdown",
   "id": "af3c02c2",
   "metadata": {},
   "source": [
    "Some errors present in perceieved age...120 years old "
   ]
  },
  {
   "cell_type": "code",
   "execution_count": 23,
   "id": "f8d5a632",
   "metadata": {},
   "outputs": [
    {
     "data": {
      "text/plain": [
       "3     129497\n",
       "7     106090\n",
       "2      97391\n",
       "1      70342\n",
       "6      47748\n",
       "4      27495\n",
       "10     22759\n",
       "5      17813\n",
       "8       9128\n",
       "9       1291\n",
       "12        29\n",
       "11        11\n",
       "13         6\n",
       "Name: resultkey, dtype: int64"
      ]
     },
     "execution_count": 23,
     "metadata": {},
     "output_type": "execute_result"
    }
   ],
   "source": [
    "ripa_data['resultkey'].value_counts()"
   ]
  },
  {
   "cell_type": "markdown",
   "id": "9d016a97",
   "metadata": {},
   "source": [
    "Most stops have a result key of 3- which according to the documentation https://oag.ca.gov/sites/all/files/agweb/pdfs/ripa/stop-data-reg-final-text-110717.pdf?\n",
    "is an arrest that has resulted in citation for infraction. Second most popular is that a fieldd interview card completed. Result column specifies the resultkey"
   ]
  },
  {
   "cell_type": "code",
   "execution_count": 30,
   "id": "cab18cb3",
   "metadata": {},
   "outputs": [
    {
     "data": {
      "text/html": [
       "<div>\n",
       "<style scoped>\n",
       "    .dataframe tbody tr th:only-of-type {\n",
       "        vertical-align: middle;\n",
       "    }\n",
       "\n",
       "    .dataframe tbody tr th {\n",
       "        vertical-align: top;\n",
       "    }\n",
       "\n",
       "    .dataframe thead th {\n",
       "        text-align: right;\n",
       "    }\n",
       "</style>\n",
       "<table border=\"1\" class=\"dataframe\">\n",
       "  <thead>\n",
       "    <tr style=\"text-align: right;\">\n",
       "      <th></th>\n",
       "      <th>stop_id</th>\n",
       "      <th>exp_years</th>\n",
       "      <th>date_stop</th>\n",
       "      <th>time_stop</th>\n",
       "      <th>stopduration</th>\n",
       "      <th>stop_in_response_to_cfs</th>\n",
       "      <th>officer_assignment_key</th>\n",
       "      <th>assignment</th>\n",
       "      <th>isschool</th>\n",
       "      <th>beat</th>\n",
       "      <th>...</th>\n",
       "      <th>perceived_lgbt</th>\n",
       "      <th>resultkey</th>\n",
       "      <th>result</th>\n",
       "      <th>code</th>\n",
       "      <th>race</th>\n",
       "      <th>reason_for_stop</th>\n",
       "      <th>reason_for_stopcode</th>\n",
       "      <th>action</th>\n",
       "      <th>consented</th>\n",
       "      <th>contraband</th>\n",
       "    </tr>\n",
       "  </thead>\n",
       "  <tbody>\n",
       "    <tr>\n",
       "      <th>12</th>\n",
       "      <td>2458</td>\n",
       "      <td>1</td>\n",
       "      <td>2018-07-01</td>\n",
       "      <td>00:37:08</td>\n",
       "      <td>10</td>\n",
       "      <td>0</td>\n",
       "      <td>1</td>\n",
       "      <td>Patrol, traffic enforcement, field operations</td>\n",
       "      <td>0</td>\n",
       "      <td>124</td>\n",
       "      <td>...</td>\n",
       "      <td>No</td>\n",
       "      <td>7</td>\n",
       "      <td>Field interview card completed</td>\n",
       "      <td>NaN</td>\n",
       "      <td>White</td>\n",
       "      <td>Traffic Violation</td>\n",
       "      <td>54141</td>\n",
       "      <td>None</td>\n",
       "      <td>NaN</td>\n",
       "      <td>None</td>\n",
       "    </tr>\n",
       "    <tr>\n",
       "      <th>20</th>\n",
       "      <td>2469</td>\n",
       "      <td>1</td>\n",
       "      <td>2018-07-01</td>\n",
       "      <td>01:45:00</td>\n",
       "      <td>10</td>\n",
       "      <td>0</td>\n",
       "      <td>1</td>\n",
       "      <td>Patrol, traffic enforcement, field operations</td>\n",
       "      <td>0</td>\n",
       "      <td>122</td>\n",
       "      <td>...</td>\n",
       "      <td>No</td>\n",
       "      <td>7</td>\n",
       "      <td>Field interview card completed</td>\n",
       "      <td>NaN</td>\n",
       "      <td>White</td>\n",
       "      <td>Traffic Violation</td>\n",
       "      <td>54159</td>\n",
       "      <td>None</td>\n",
       "      <td>NaN</td>\n",
       "      <td>None</td>\n",
       "    </tr>\n",
       "    <tr>\n",
       "      <th>21</th>\n",
       "      <td>2471</td>\n",
       "      <td>5</td>\n",
       "      <td>2018-07-01</td>\n",
       "      <td>01:53:43</td>\n",
       "      <td>20</td>\n",
       "      <td>0</td>\n",
       "      <td>5</td>\n",
       "      <td>Roadblock or DUI sobriety checkpoint</td>\n",
       "      <td>0</td>\n",
       "      <td>834</td>\n",
       "      <td>...</td>\n",
       "      <td>No</td>\n",
       "      <td>7</td>\n",
       "      <td>Field interview card completed</td>\n",
       "      <td>NaN</td>\n",
       "      <td>Black/African American</td>\n",
       "      <td>Reasonable Suspicion</td>\n",
       "      <td>13174</td>\n",
       "      <td>None</td>\n",
       "      <td>NaN</td>\n",
       "      <td>None</td>\n",
       "    </tr>\n",
       "    <tr>\n",
       "      <th>23</th>\n",
       "      <td>2474</td>\n",
       "      <td>3</td>\n",
       "      <td>2018-07-01</td>\n",
       "      <td>02:16:33</td>\n",
       "      <td>15</td>\n",
       "      <td>0</td>\n",
       "      <td>1</td>\n",
       "      <td>Patrol, traffic enforcement, field operations</td>\n",
       "      <td>0</td>\n",
       "      <td>441</td>\n",
       "      <td>...</td>\n",
       "      <td>No</td>\n",
       "      <td>7</td>\n",
       "      <td>Field interview card completed</td>\n",
       "      <td>NaN</td>\n",
       "      <td>Hispanic/Latino/a</td>\n",
       "      <td>Reasonable Suspicion</td>\n",
       "      <td>24067</td>\n",
       "      <td>Handcuffed or flex cuffed</td>\n",
       "      <td>NaN</td>\n",
       "      <td>None</td>\n",
       "    </tr>\n",
       "    <tr>\n",
       "      <th>24</th>\n",
       "      <td>2475</td>\n",
       "      <td>4</td>\n",
       "      <td>2018-07-01</td>\n",
       "      <td>02:05:07</td>\n",
       "      <td>15</td>\n",
       "      <td>0</td>\n",
       "      <td>1</td>\n",
       "      <td>Patrol, traffic enforcement, field operations</td>\n",
       "      <td>0</td>\n",
       "      <td>122</td>\n",
       "      <td>...</td>\n",
       "      <td>No</td>\n",
       "      <td>7</td>\n",
       "      <td>Field interview card completed</td>\n",
       "      <td>NaN</td>\n",
       "      <td>White</td>\n",
       "      <td>Reasonable Suspicion</td>\n",
       "      <td>53072</td>\n",
       "      <td>Handcuffed or flex cuffed</td>\n",
       "      <td>NaN</td>\n",
       "      <td>None</td>\n",
       "    </tr>\n",
       "    <tr>\n",
       "      <th>...</th>\n",
       "      <td>...</td>\n",
       "      <td>...</td>\n",
       "      <td>...</td>\n",
       "      <td>...</td>\n",
       "      <td>...</td>\n",
       "      <td>...</td>\n",
       "      <td>...</td>\n",
       "      <td>...</td>\n",
       "      <td>...</td>\n",
       "      <td>...</td>\n",
       "      <td>...</td>\n",
       "      <td>...</td>\n",
       "      <td>...</td>\n",
       "      <td>...</td>\n",
       "      <td>...</td>\n",
       "      <td>...</td>\n",
       "      <td>...</td>\n",
       "      <td>...</td>\n",
       "      <td>...</td>\n",
       "      <td>...</td>\n",
       "      <td>...</td>\n",
       "    </tr>\n",
       "    <tr>\n",
       "      <th>529515</th>\n",
       "      <td>478588</td>\n",
       "      <td>4</td>\n",
       "      <td>2021-09-30</td>\n",
       "      <td>16:33:13</td>\n",
       "      <td>200</td>\n",
       "      <td>0</td>\n",
       "      <td>1</td>\n",
       "      <td>Patrol, traffic enforcement, field operations</td>\n",
       "      <td>0</td>\n",
       "      <td>531</td>\n",
       "      <td>...</td>\n",
       "      <td>No</td>\n",
       "      <td>7</td>\n",
       "      <td>Field interview card completed</td>\n",
       "      <td>NaN</td>\n",
       "      <td>Black/African American</td>\n",
       "      <td>Traffic Violation</td>\n",
       "      <td>54644.0</td>\n",
       "      <td>None</td>\n",
       "      <td>NaN</td>\n",
       "      <td>None</td>\n",
       "    </tr>\n",
       "    <tr>\n",
       "      <th>529549</th>\n",
       "      <td>478620</td>\n",
       "      <td>1</td>\n",
       "      <td>2021-09-30</td>\n",
       "      <td>22:40:19</td>\n",
       "      <td>20</td>\n",
       "      <td>0</td>\n",
       "      <td>1</td>\n",
       "      <td>Patrol, traffic enforcement, field operations</td>\n",
       "      <td>0</td>\n",
       "      <td>627</td>\n",
       "      <td>...</td>\n",
       "      <td>No</td>\n",
       "      <td>7</td>\n",
       "      <td>Field interview card completed</td>\n",
       "      <td>NaN</td>\n",
       "      <td>White</td>\n",
       "      <td>Reasonable Suspicion</td>\n",
       "      <td>35150.0</td>\n",
       "      <td>None</td>\n",
       "      <td>NaN</td>\n",
       "      <td>None</td>\n",
       "    </tr>\n",
       "    <tr>\n",
       "      <th>529587</th>\n",
       "      <td>478681</td>\n",
       "      <td>1</td>\n",
       "      <td>2021-09-30</td>\n",
       "      <td>23:45:00</td>\n",
       "      <td>15</td>\n",
       "      <td>0</td>\n",
       "      <td>1</td>\n",
       "      <td>Patrol, traffic enforcement, field operations</td>\n",
       "      <td>0</td>\n",
       "      <td>623</td>\n",
       "      <td>...</td>\n",
       "      <td>No</td>\n",
       "      <td>7</td>\n",
       "      <td>Field interview card completed</td>\n",
       "      <td>NaN</td>\n",
       "      <td>Hispanic/Latino/a</td>\n",
       "      <td>Reasonable Suspicion</td>\n",
       "      <td>52687.0</td>\n",
       "      <td>Handcuffed or flex cuffed</td>\n",
       "      <td>NaN</td>\n",
       "      <td>None</td>\n",
       "    </tr>\n",
       "    <tr>\n",
       "      <th>529597</th>\n",
       "      <td>478867</td>\n",
       "      <td>1</td>\n",
       "      <td>2021-09-30</td>\n",
       "      <td>15:50:00</td>\n",
       "      <td>20</td>\n",
       "      <td>0</td>\n",
       "      <td>1</td>\n",
       "      <td>Patrol, traffic enforcement, field operations</td>\n",
       "      <td>0</td>\n",
       "      <td>611</td>\n",
       "      <td>...</td>\n",
       "      <td>No</td>\n",
       "      <td>7</td>\n",
       "      <td>Field interview card completed</td>\n",
       "      <td>NaN</td>\n",
       "      <td>White</td>\n",
       "      <td>Reasonable Suspicion</td>\n",
       "      <td>32022.0</td>\n",
       "      <td>None</td>\n",
       "      <td>NaN</td>\n",
       "      <td>None</td>\n",
       "    </tr>\n",
       "    <tr>\n",
       "      <th>529598</th>\n",
       "      <td>478867</td>\n",
       "      <td>1</td>\n",
       "      <td>2021-09-30</td>\n",
       "      <td>15:50:00</td>\n",
       "      <td>20</td>\n",
       "      <td>0</td>\n",
       "      <td>1</td>\n",
       "      <td>Patrol, traffic enforcement, field operations</td>\n",
       "      <td>0</td>\n",
       "      <td>611</td>\n",
       "      <td>...</td>\n",
       "      <td>No</td>\n",
       "      <td>7</td>\n",
       "      <td>Field interview card completed</td>\n",
       "      <td>NaN</td>\n",
       "      <td>White</td>\n",
       "      <td>Reasonable Suspicion</td>\n",
       "      <td>32022.0</td>\n",
       "      <td>None</td>\n",
       "      <td>NaN</td>\n",
       "      <td>None</td>\n",
       "    </tr>\n",
       "  </tbody>\n",
       "</table>\n",
       "<p>106090 rows × 27 columns</p>\n",
       "</div>"
      ],
      "text/plain": [
       "        stop_id  exp_years   date_stop time_stop  stopduration  \\\n",
       "12         2458          1  2018-07-01  00:37:08            10   \n",
       "20         2469          1  2018-07-01  01:45:00            10   \n",
       "21         2471          5  2018-07-01  01:53:43            20   \n",
       "23         2474          3  2018-07-01  02:16:33            15   \n",
       "24         2475          4  2018-07-01  02:05:07            15   \n",
       "...         ...        ...         ...       ...           ...   \n",
       "529515   478588          4  2021-09-30  16:33:13           200   \n",
       "529549   478620          1  2021-09-30  22:40:19            20   \n",
       "529587   478681          1  2021-09-30  23:45:00            15   \n",
       "529597   478867          1  2021-09-30  15:50:00            20   \n",
       "529598   478867          1  2021-09-30  15:50:00            20   \n",
       "\n",
       "        stop_in_response_to_cfs  officer_assignment_key  \\\n",
       "12                            0                       1   \n",
       "20                            0                       1   \n",
       "21                            0                       5   \n",
       "23                            0                       1   \n",
       "24                            0                       1   \n",
       "...                         ...                     ...   \n",
       "529515                        0                       1   \n",
       "529549                        0                       1   \n",
       "529587                        0                       1   \n",
       "529597                        0                       1   \n",
       "529598                        0                       1   \n",
       "\n",
       "                                           assignment  isschool  beat  ...  \\\n",
       "12      Patrol, traffic enforcement, field operations         0   124  ...   \n",
       "20      Patrol, traffic enforcement, field operations         0   122  ...   \n",
       "21               Roadblock or DUI sobriety checkpoint         0   834  ...   \n",
       "23      Patrol, traffic enforcement, field operations         0   441  ...   \n",
       "24      Patrol, traffic enforcement, field operations         0   122  ...   \n",
       "...                                               ...       ...   ...  ...   \n",
       "529515  Patrol, traffic enforcement, field operations         0   531  ...   \n",
       "529549  Patrol, traffic enforcement, field operations         0   627  ...   \n",
       "529587  Patrol, traffic enforcement, field operations         0   623  ...   \n",
       "529597  Patrol, traffic enforcement, field operations         0   611  ...   \n",
       "529598  Patrol, traffic enforcement, field operations         0   611  ...   \n",
       "\n",
       "        perceived_lgbt  resultkey                          result  code  \\\n",
       "12                  No          7  Field interview card completed   NaN   \n",
       "20                  No          7  Field interview card completed   NaN   \n",
       "21                  No          7  Field interview card completed   NaN   \n",
       "23                  No          7  Field interview card completed   NaN   \n",
       "24                  No          7  Field interview card completed   NaN   \n",
       "...                ...        ...                             ...   ...   \n",
       "529515              No          7  Field interview card completed   NaN   \n",
       "529549              No          7  Field interview card completed   NaN   \n",
       "529587              No          7  Field interview card completed   NaN   \n",
       "529597              No          7  Field interview card completed   NaN   \n",
       "529598              No          7  Field interview card completed   NaN   \n",
       "\n",
       "                          race       reason_for_stop  reason_for_stopcode  \\\n",
       "12                       White     Traffic Violation                54141   \n",
       "20                       White     Traffic Violation                54159   \n",
       "21      Black/African American  Reasonable Suspicion                13174   \n",
       "23           Hispanic/Latino/a  Reasonable Suspicion                24067   \n",
       "24                       White  Reasonable Suspicion                53072   \n",
       "...                        ...                   ...                  ...   \n",
       "529515  Black/African American     Traffic Violation              54644.0   \n",
       "529549                   White  Reasonable Suspicion              35150.0   \n",
       "529587       Hispanic/Latino/a  Reasonable Suspicion              52687.0   \n",
       "529597                   White  Reasonable Suspicion              32022.0   \n",
       "529598                   White  Reasonable Suspicion              32022.0   \n",
       "\n",
       "                           action  consented contraband  \n",
       "12                           None        NaN       None  \n",
       "20                           None        NaN       None  \n",
       "21                           None        NaN       None  \n",
       "23      Handcuffed or flex cuffed        NaN       None  \n",
       "24      Handcuffed or flex cuffed        NaN       None  \n",
       "...                           ...        ...        ...  \n",
       "529515                       None        NaN       None  \n",
       "529549                       None        NaN       None  \n",
       "529587  Handcuffed or flex cuffed        NaN       None  \n",
       "529597                       None        NaN       None  \n",
       "529598                       None        NaN       None  \n",
       "\n",
       "[106090 rows x 27 columns]"
      ]
     },
     "execution_count": 30,
     "metadata": {},
     "output_type": "execute_result"
    }
   ],
   "source": [
    "ripa_data[ripa_data['resultkey']==7]"
   ]
  },
  {
   "cell_type": "code",
   "execution_count": 39,
   "id": "f91ac835",
   "metadata": {},
   "outputs": [
    {
     "data": {
      "text/plain": [
       "Reasonable Suspicion                                                                                                 271553\n",
       "Traffic Violation                                                                                                    231637\n",
       "Investigation to determine whether the person was truant                                                               7551\n",
       "Known to be on Parole / Probation / PRCS / Mandatory Supervision                                                       6792\n",
       "Consensual Encounter resulting in a search                                                                             6705\n",
       "Knowledge of outstanding arrest warrant/wanted person                                                                  5325\n",
       "Determine whether the student violated school policy                                                                     30\n",
       "Possible conduct warranting discipline under Education Code sections 48900, 48900.2, 48900.3, 48900.4 and 48900.7         7\n",
       "Name: reason_for_stop, dtype: int64"
      ]
     },
     "execution_count": 39,
     "metadata": {},
     "output_type": "execute_result"
    }
   ],
   "source": [
    "ripa_data['reason_for_stop'].value_counts() #most stops due to reasonable suspicion"
   ]
  },
  {
   "cell_type": "code",
   "execution_count": 40,
   "id": "d46b6f24",
   "metadata": {},
   "outputs": [
    {
     "data": {
      "text/plain": [
       "None                                                    325468\n",
       "Handcuffed or flex cuffed                                56108\n",
       "Curbside detention                                       55353\n",
       "Search of person was conducted                           25531\n",
       "Patrol car detention                                     23489\n",
       "Search of property was conducted                         10678\n",
       "Person removed from vehicle by order                      8136\n",
       "Person photographed                                       4907\n",
       "Asked for consent to search person                        4768\n",
       "Asked for consent to search property                      3864\n",
       "Field sobriety test conducted                             2826\n",
       "Physical or Vehicle contact                               2704\n",
       "Property was seized                                       2298\n",
       "Vehicle impounded                                         2251\n",
       "Firearm pointed at person                                  497\n",
       "Person removed from vehicle by physical contact            234\n",
       "Chemical spray used                                        164\n",
       "Canine removed from vehicle or used to search              119\n",
       "Electronic control device used                             116\n",
       "Admission or written statement obtained from student        30\n",
       "Canine bit or held person                                   26\n",
       "Baton or other impact weapon used                           16\n",
       "Impact projectile discharged or used                        15\n",
       "Firearm discharged or used                                   2\n",
       "Name: action, dtype: int64"
      ]
     },
     "execution_count": 40,
     "metadata": {},
     "output_type": "execute_result"
    }
   ],
   "source": [
    "\n",
    "ripa_data['action'].value_counts() #most stops resulted in no action, fewer stops resulted in physical contact"
   ]
  },
  {
   "cell_type": "code",
   "execution_count": 41,
   "id": "a4eb87fa",
   "metadata": {},
   "outputs": [
    {
     "data": {
      "text/plain": [
       "Citation for infraction                                                      129497\n",
       "Field interview card completed                                               106090\n",
       "Warning (verbal or written)                                                   97391\n",
       "No Action                                                                     70342\n",
       "Custodial Arrest without warrant                                              47748\n",
       "In-field cite and release                                                     27495\n",
       "Psychiatric hold                                                              22759\n",
       "Custodial Arrest pursuant to outstanding warrant                              17810\n",
       "Noncriminal transport or caretaking transport                                  9128\n",
       "Contacted parent/legal guardian or other person responsible for the minor      1291\n",
       "Referral to school administrator                                                 29\n",
       "Contacted U.S. Department of Homeland Security                                   14\n",
       "Referral to school counselor or other support staff                               6\n",
       "Name: result, dtype: int64"
      ]
     },
     "execution_count": 41,
     "metadata": {},
     "output_type": "execute_result"
    }
   ],
   "source": [
    "ripa_data['result'].value_counts()"
   ]
  },
  {
   "cell_type": "code",
   "execution_count": 43,
   "id": "0dcf4d32",
   "metadata": {},
   "outputs": [
    {
     "data": {
      "text/plain": [
       "16:00:00    1498\n",
       "15:00:00    1280\n",
       "08:00:00    1262\n",
       "10:00:00    1236\n",
       "09:00:00    1227\n",
       "            ... \n",
       "02:24:17       1\n",
       "19:54:21       1\n",
       "07:06:24       1\n",
       "04:29:01       1\n",
       "01:21:28       1\n",
       "Name: time_stop, Length: 81330, dtype: int64"
      ]
     },
     "execution_count": 43,
     "metadata": {},
     "output_type": "execute_result"
    }
   ],
   "source": [
    "ripa_data['time_stop'].value_counts() #a lot of stops happen at 4pm- this is a cursory glance since time is not encoded by hour"
   ]
  },
  {
   "cell_type": "code",
   "execution_count": 45,
   "id": "91005be4",
   "metadata": {},
   "outputs": [
    {
     "data": {
      "text/plain": [
       "count         529600\n",
       "unique          1188\n",
       "top       2020-02-12\n",
       "freq             799\n",
       "Name: date_stop, dtype: object"
      ]
     },
     "execution_count": 45,
     "metadata": {},
     "output_type": "execute_result"
    }
   ],
   "source": [
    "ripa_data['date_stop'].describe()"
   ]
  },
  {
   "cell_type": "code",
   "execution_count": null,
   "id": "393b99a3",
   "metadata": {},
   "outputs": [],
   "source": []
  }
 ],
 "metadata": {
  "kernelspec": {
   "display_name": "Python 3",
   "language": "python",
   "name": "python3"
  },
  "language_info": {
   "codemirror_mode": {
    "name": "ipython",
    "version": 3
   },
   "file_extension": ".py",
   "mimetype": "text/x-python",
   "name": "python",
   "nbconvert_exporter": "python",
   "pygments_lexer": "ipython3",
   "version": "3.8.8"
  }
 },
 "nbformat": 4,
 "nbformat_minor": 5
}
