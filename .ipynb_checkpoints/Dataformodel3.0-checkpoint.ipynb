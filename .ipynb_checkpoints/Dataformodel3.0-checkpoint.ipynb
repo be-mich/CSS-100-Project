{
 "cells": [
  {
   "cell_type": "markdown",
   "id": "creative-sound",
   "metadata": {},
   "source": [
    "# Data Cleaning for our model"
   ]
  },
  {
   "cell_type": "markdown",
   "id": "rural-texture",
   "metadata": {},
   "source": [
    "## Importing our packages and our full data"
   ]
  },
  {
   "cell_type": "code",
   "execution_count": 1,
   "id": "hired-collect",
   "metadata": {},
   "outputs": [],
   "source": [
    "import pandas as pd\n",
    "import numpy as np\n",
    "import datetime\n",
    "from sklearn.model_selection import train_test_split\n",
    "from sklearn.metrics import accuracy_score"
   ]
  },
  {
   "cell_type": "markdown",
   "id": "racial-construction",
   "metadata": {},
   "source": [
    "This notebook wiil be to have the final dataframe that will go into our model."
   ]
  },
  {
   "cell_type": "code",
   "execution_count": 2,
   "id": "focal-evanescence",
   "metadata": {},
   "outputs": [],
   "source": [
    "%store -r ripa_all_combo"
   ]
  },
  {
   "cell_type": "markdown",
   "id": "endangered-pepper",
   "metadata": {},
   "source": [
    "Showing the first 5 rows of the data"
   ]
  },
  {
   "cell_type": "code",
   "execution_count": 3,
   "id": "explicit-documentary",
   "metadata": {},
   "outputs": [
    {
     "data": {
      "text/html": [
       "<div>\n",
       "<style scoped>\n",
       "    .dataframe tbody tr th:only-of-type {\n",
       "        vertical-align: middle;\n",
       "    }\n",
       "\n",
       "    .dataframe tbody tr th {\n",
       "        vertical-align: top;\n",
       "    }\n",
       "\n",
       "    .dataframe thead th {\n",
       "        text-align: right;\n",
       "    }\n",
       "</style>\n",
       "<table border=\"1\" class=\"dataframe\">\n",
       "  <thead>\n",
       "    <tr style=\"text-align: right;\">\n",
       "      <th></th>\n",
       "      <th>stop_id</th>\n",
       "      <th>ori</th>\n",
       "      <th>agency</th>\n",
       "      <th>exp_years</th>\n",
       "      <th>date_stop</th>\n",
       "      <th>time_stop</th>\n",
       "      <th>stopduration</th>\n",
       "      <th>stop_in_response_to_cfs</th>\n",
       "      <th>officer_assignment_key</th>\n",
       "      <th>assignment</th>\n",
       "      <th>...</th>\n",
       "      <th>resulttext</th>\n",
       "      <th>race</th>\n",
       "      <th>reason_for_stop</th>\n",
       "      <th>reason_for_stopcode</th>\n",
       "      <th>reason_for_stop_code_text</th>\n",
       "      <th>reason_for_stop_detail</th>\n",
       "      <th>reason_for_stop_explanation</th>\n",
       "      <th>action</th>\n",
       "      <th>consented</th>\n",
       "      <th>contraband</th>\n",
       "    </tr>\n",
       "  </thead>\n",
       "  <tbody>\n",
       "    <tr>\n",
       "      <th>0</th>\n",
       "      <td>2443</td>\n",
       "      <td>CA0371100</td>\n",
       "      <td>SD</td>\n",
       "      <td>10</td>\n",
       "      <td>2018-07-01</td>\n",
       "      <td>00:01:37</td>\n",
       "      <td>30</td>\n",
       "      <td>0</td>\n",
       "      <td>1</td>\n",
       "      <td>Patrol, traffic enforcement, field operations</td>\n",
       "      <td>...</td>\n",
       "      <td>647(F) PC - DISORD CONDUCT:ALCOHOL (M) 64005</td>\n",
       "      <td>White</td>\n",
       "      <td>Reasonable Suspicion</td>\n",
       "      <td>64005</td>\n",
       "      <td>647(F) PC - DISORD CONDUCT:ALCOHOL (M) 64005</td>\n",
       "      <td>Officer witnessed commission of a crime</td>\n",
       "      <td>staggering, unable to safely walk</td>\n",
       "      <td>None</td>\n",
       "      <td>NaN</td>\n",
       "      <td>None</td>\n",
       "    </tr>\n",
       "    <tr>\n",
       "      <th>1</th>\n",
       "      <td>2444</td>\n",
       "      <td>CA0371100</td>\n",
       "      <td>SD</td>\n",
       "      <td>18</td>\n",
       "      <td>2018-07-01</td>\n",
       "      <td>00:03:34</td>\n",
       "      <td>10</td>\n",
       "      <td>0</td>\n",
       "      <td>1</td>\n",
       "      <td>Patrol, traffic enforcement, field operations</td>\n",
       "      <td>...</td>\n",
       "      <td>22349(B) VC - EXC 55MPH SPEED:2 LANE RD (I) 54395</td>\n",
       "      <td>White</td>\n",
       "      <td>Traffic Violation</td>\n",
       "      <td>54106</td>\n",
       "      <td>22350 VC - UNSAFE SPEED:PREVAIL COND (I) 54106</td>\n",
       "      <td>Moving Violation</td>\n",
       "      <td>Speeding</td>\n",
       "      <td>None</td>\n",
       "      <td>NaN</td>\n",
       "      <td>None</td>\n",
       "    </tr>\n",
       "    <tr>\n",
       "      <th>2</th>\n",
       "      <td>2447</td>\n",
       "      <td>CA0371100</td>\n",
       "      <td>SD</td>\n",
       "      <td>1</td>\n",
       "      <td>2018-07-01</td>\n",
       "      <td>00:05:43</td>\n",
       "      <td>15</td>\n",
       "      <td>1</td>\n",
       "      <td>10</td>\n",
       "      <td>Other</td>\n",
       "      <td>...</td>\n",
       "      <td>NaN</td>\n",
       "      <td>Hispanic/Latino/a</td>\n",
       "      <td>Reasonable Suspicion</td>\n",
       "      <td>53072</td>\n",
       "      <td>415(1) PC - FIGHT IN PUBLIC PLACE (M) 53072</td>\n",
       "      <td>Matched suspect description</td>\n",
       "      <td>Both parties involved in argument.</td>\n",
       "      <td>Curbside detention</td>\n",
       "      <td>NaN</td>\n",
       "      <td>None</td>\n",
       "    </tr>\n",
       "    <tr>\n",
       "      <th>3</th>\n",
       "      <td>2447</td>\n",
       "      <td>CA0371100</td>\n",
       "      <td>SD</td>\n",
       "      <td>1</td>\n",
       "      <td>2018-07-01</td>\n",
       "      <td>00:05:43</td>\n",
       "      <td>15</td>\n",
       "      <td>1</td>\n",
       "      <td>10</td>\n",
       "      <td>Other</td>\n",
       "      <td>...</td>\n",
       "      <td>NaN</td>\n",
       "      <td>Hispanic/Latino/a</td>\n",
       "      <td>Reasonable Suspicion</td>\n",
       "      <td>53072</td>\n",
       "      <td>415(1) PC - FIGHT IN PUBLIC PLACE (M) 53072</td>\n",
       "      <td>Other Reasonable Suspicion of a crime</td>\n",
       "      <td>Both parties engaged in argument.</td>\n",
       "      <td>Curbside detention</td>\n",
       "      <td>NaN</td>\n",
       "      <td>None</td>\n",
       "    </tr>\n",
       "    <tr>\n",
       "      <th>4</th>\n",
       "      <td>2448</td>\n",
       "      <td>CA0371100</td>\n",
       "      <td>SD</td>\n",
       "      <td>3</td>\n",
       "      <td>2018-07-01</td>\n",
       "      <td>00:19:06</td>\n",
       "      <td>5</td>\n",
       "      <td>0</td>\n",
       "      <td>1</td>\n",
       "      <td>Patrol, traffic enforcement, field operations</td>\n",
       "      <td>...</td>\n",
       "      <td>NaN</td>\n",
       "      <td>White</td>\n",
       "      <td>Traffic Violation</td>\n",
       "      <td>54106</td>\n",
       "      <td>22350 VC - UNSAFE SPEED:PREVAIL COND (I) 54106</td>\n",
       "      <td>Moving Violation</td>\n",
       "      <td>UNSAFE DRIVING</td>\n",
       "      <td>None</td>\n",
       "      <td>NaN</td>\n",
       "      <td>None</td>\n",
       "    </tr>\n",
       "  </tbody>\n",
       "</table>\n",
       "<p>5 rows × 42 columns</p>\n",
       "</div>"
      ],
      "text/plain": [
       "   stop_id        ori agency  exp_years   date_stop time_stop  stopduration  \\\n",
       "0     2443  CA0371100     SD         10  2018-07-01  00:01:37            30   \n",
       "1     2444  CA0371100     SD         18  2018-07-01  00:03:34            10   \n",
       "2     2447  CA0371100     SD          1  2018-07-01  00:05:43            15   \n",
       "3     2447  CA0371100     SD          1  2018-07-01  00:05:43            15   \n",
       "4     2448  CA0371100     SD          3  2018-07-01  00:19:06             5   \n",
       "\n",
       "   stop_in_response_to_cfs  officer_assignment_key  \\\n",
       "0                        0                       1   \n",
       "1                        0                       1   \n",
       "2                        1                      10   \n",
       "3                        1                      10   \n",
       "4                        0                       1   \n",
       "\n",
       "                                      assignment  ...  \\\n",
       "0  Patrol, traffic enforcement, field operations  ...   \n",
       "1  Patrol, traffic enforcement, field operations  ...   \n",
       "2                                          Other  ...   \n",
       "3                                          Other  ...   \n",
       "4  Patrol, traffic enforcement, field operations  ...   \n",
       "\n",
       "                                          resulttext               race  \\\n",
       "0       647(F) PC - DISORD CONDUCT:ALCOHOL (M) 64005              White   \n",
       "1  22349(B) VC - EXC 55MPH SPEED:2 LANE RD (I) 54395              White   \n",
       "2                                                NaN  Hispanic/Latino/a   \n",
       "3                                                NaN  Hispanic/Latino/a   \n",
       "4                                                NaN              White   \n",
       "\n",
       "        reason_for_stop reason_for_stopcode  \\\n",
       "0  Reasonable Suspicion               64005   \n",
       "1     Traffic Violation               54106   \n",
       "2  Reasonable Suspicion               53072   \n",
       "3  Reasonable Suspicion               53072   \n",
       "4     Traffic Violation               54106   \n",
       "\n",
       "                        reason_for_stop_code_text  \\\n",
       "0    647(F) PC - DISORD CONDUCT:ALCOHOL (M) 64005   \n",
       "1  22350 VC - UNSAFE SPEED:PREVAIL COND (I) 54106   \n",
       "2     415(1) PC - FIGHT IN PUBLIC PLACE (M) 53072   \n",
       "3     415(1) PC - FIGHT IN PUBLIC PLACE (M) 53072   \n",
       "4  22350 VC - UNSAFE SPEED:PREVAIL COND (I) 54106   \n",
       "\n",
       "                    reason_for_stop_detail  \\\n",
       "0  Officer witnessed commission of a crime   \n",
       "1                         Moving Violation   \n",
       "2              Matched suspect description   \n",
       "3    Other Reasonable Suspicion of a crime   \n",
       "4                         Moving Violation   \n",
       "\n",
       "          reason_for_stop_explanation              action  consented  \\\n",
       "0   staggering, unable to safely walk                None        NaN   \n",
       "1                            Speeding                None        NaN   \n",
       "2  Both parties involved in argument.  Curbside detention        NaN   \n",
       "3   Both parties engaged in argument.  Curbside detention        NaN   \n",
       "4                      UNSAFE DRIVING                None        NaN   \n",
       "\n",
       "  contraband  \n",
       "0       None  \n",
       "1       None  \n",
       "2       None  \n",
       "3       None  \n",
       "4       None  \n",
       "\n",
       "[5 rows x 42 columns]"
      ]
     },
     "execution_count": 3,
     "metadata": {},
     "output_type": "execute_result"
    }
   ],
   "source": [
    "ripa_all_combo.head()"
   ]
  },
  {
   "cell_type": "markdown",
   "id": "deluxe-phrase",
   "metadata": {},
   "source": [
    "## Checking to see if there are any null values and dropping not useful features"
   ]
  },
  {
   "cell_type": "code",
   "execution_count": 4,
   "id": "beginning-thriller",
   "metadata": {},
   "outputs": [],
   "source": [
    "ripa_data = ripa_all_combo"
   ]
  },
  {
   "cell_type": "code",
   "execution_count": 5,
   "id": "sharing-training",
   "metadata": {},
   "outputs": [
    {
     "data": {
      "text/plain": [
       "stop_id                        False\n",
       "ori                             True\n",
       "agency                          True\n",
       "exp_years                      False\n",
       "date_stop                       True\n",
       "time_stop                       True\n",
       "stopduration                   False\n",
       "stop_in_response_to_cfs        False\n",
       "officer_assignment_key         False\n",
       "assignment                      True\n",
       "intersection                    True\n",
       "address_block                  False\n",
       "land_mark                       True\n",
       "address_street                  True\n",
       "highway_exit                    True\n",
       "isschool                       False\n",
       "school_name                     True\n",
       "address_city                    True\n",
       "beat                           False\n",
       "beat_name                       True\n",
       "pid                            False\n",
       "isstudent                      False\n",
       "perceived_limited_english      False\n",
       "perceived_age                  False\n",
       "perceived_gender                True\n",
       "gender_nonconforming           False\n",
       "gend                           False\n",
       "gend_nc                        False\n",
       "perceived_lgbt                  True\n",
       "resultkey                      False\n",
       "result                          True\n",
       "code                           False\n",
       "resulttext                      True\n",
       "race                            True\n",
       "reason_for_stop                 True\n",
       "reason_for_stopcode             True\n",
       "reason_for_stop_code_text       True\n",
       "reason_for_stop_detail          True\n",
       "reason_for_stop_explanation     True\n",
       "action                          True\n",
       "consented                       True\n",
       "contraband                      True\n",
       "dtype: bool"
      ]
     },
     "execution_count": 5,
     "metadata": {},
     "output_type": "execute_result"
    }
   ],
   "source": [
    "ripa_data.dtypes == 'object'"
   ]
  },
  {
   "cell_type": "code",
   "execution_count": 6,
   "id": "sought-portugal",
   "metadata": {},
   "outputs": [],
   "source": [
    "num_vars = ripa_data.columns [ripa_data.dtypes != 'object']\n",
    "cat_vars = ripa_data.columns [ripa_data.dtypes == 'object']"
   ]
  },
  {
   "cell_type": "code",
   "execution_count": 7,
   "id": "nasty-freeware",
   "metadata": {},
   "outputs": [
    {
     "data": {
      "text/plain": [
       "stop_id                           0\n",
       "exp_years                         0\n",
       "stopduration                      0\n",
       "stop_in_response_to_cfs           0\n",
       "officer_assignment_key            0\n",
       "address_block                 56031\n",
       "isschool                          0\n",
       "beat                              0\n",
       "pid                               0\n",
       "isstudent                         0\n",
       "perceived_limited_english         0\n",
       "perceived_age                     0\n",
       "gender_nonconforming              0\n",
       "gend                              0\n",
       "gend_nc                      529322\n",
       "resultkey                         0\n",
       "code                         227492\n",
       "dtype: int64"
      ]
     },
     "execution_count": 7,
     "metadata": {},
     "output_type": "execute_result"
    }
   ],
   "source": [
    "#check whether null values\n",
    "ripa_data[num_vars].isnull().sum()"
   ]
  },
  {
   "cell_type": "code",
   "execution_count": 8,
   "id": "painted-species",
   "metadata": {},
   "outputs": [
    {
     "data": {
      "text/plain": [
       "ori                                 0\n",
       "agency                              0\n",
       "date_stop                           0\n",
       "time_stop                           0\n",
       "assignment                          0\n",
       "intersection                   477289\n",
       "land_mark                      529539\n",
       "address_street                  22457\n",
       "highway_exit                   525123\n",
       "school_name                    529169\n",
       "address_city                        1\n",
       "beat_name                           0\n",
       "perceived_gender                  152\n",
       "perceived_lgbt                      0\n",
       "result                              0\n",
       "resulttext                     227492\n",
       "race                                0\n",
       "reason_for_stop                     0\n",
       "reason_for_stopcode             26411\n",
       "reason_for_stop_code_text       26411\n",
       "reason_for_stop_detail          26403\n",
       "reason_for_stop_explanation         2\n",
       "action                              0\n",
       "consented                      520968\n",
       "contraband                          0\n",
       "dtype: int64"
      ]
     },
     "execution_count": 8,
     "metadata": {},
     "output_type": "execute_result"
    }
   ],
   "source": [
    "#check whether null values\n",
    "ripa_data[cat_vars].isnull().sum()"
   ]
  },
  {
   "cell_type": "code",
   "execution_count": 9,
   "id": "roman-report",
   "metadata": {},
   "outputs": [
    {
     "name": "stdout",
     "output_type": "stream",
     "text": [
      "Index(['exp_years', 'date_stop', 'time_stop', 'stopduration',\n",
      "       'stop_in_response_to_cfs', 'officer_assignment_key', 'isschool',\n",
      "       'isstudent', 'perceived_limited_english', 'perceived_age',\n",
      "       'perceived_gender', 'perceived_lgbt', 'resultkey', 'race',\n",
      "       'reason_for_stop', 'action', 'contraband'],\n",
      "      dtype='object')\n"
     ]
    }
   ],
   "source": [
    "ripa_data = ripa_all_combo.drop(['stop_id','ori','agency','assignment','intersection','address_block','land_mark',\n",
    "                                'address_street','highway_exit','school_name','address_city','beat','beat_name','pid',\n",
    "                                'gender_nonconforming','gend','gend_nc','result','code','resulttext',\n",
    "                                'reason_for_stopcode','reason_for_stop_code_text','reason_for_stop_detail',\n",
    "                                'reason_for_stop_explanation','consented'], axis=1)\n",
    "print(ripa_data.columns)"
   ]
  },
  {
   "cell_type": "code",
   "execution_count": 10,
   "id": "excessive-corner",
   "metadata": {},
   "outputs": [
    {
     "data": {
      "text/html": [
       "<div>\n",
       "<style scoped>\n",
       "    .dataframe tbody tr th:only-of-type {\n",
       "        vertical-align: middle;\n",
       "    }\n",
       "\n",
       "    .dataframe tbody tr th {\n",
       "        vertical-align: top;\n",
       "    }\n",
       "\n",
       "    .dataframe thead th {\n",
       "        text-align: right;\n",
       "    }\n",
       "</style>\n",
       "<table border=\"1\" class=\"dataframe\">\n",
       "  <thead>\n",
       "    <tr style=\"text-align: right;\">\n",
       "      <th></th>\n",
       "      <th>exp_years</th>\n",
       "      <th>date_stop</th>\n",
       "      <th>time_stop</th>\n",
       "      <th>stopduration</th>\n",
       "      <th>stop_in_response_to_cfs</th>\n",
       "      <th>officer_assignment_key</th>\n",
       "      <th>isschool</th>\n",
       "      <th>isstudent</th>\n",
       "      <th>perceived_limited_english</th>\n",
       "      <th>perceived_age</th>\n",
       "      <th>perceived_gender</th>\n",
       "      <th>perceived_lgbt</th>\n",
       "      <th>resultkey</th>\n",
       "      <th>race</th>\n",
       "      <th>reason_for_stop</th>\n",
       "      <th>action</th>\n",
       "      <th>contraband</th>\n",
       "    </tr>\n",
       "  </thead>\n",
       "  <tbody>\n",
       "    <tr>\n",
       "      <th>0</th>\n",
       "      <td>10</td>\n",
       "      <td>2018-07-01</td>\n",
       "      <td>00:01:37</td>\n",
       "      <td>30</td>\n",
       "      <td>0</td>\n",
       "      <td>1</td>\n",
       "      <td>0</td>\n",
       "      <td>0</td>\n",
       "      <td>0</td>\n",
       "      <td>25</td>\n",
       "      <td>Male</td>\n",
       "      <td>No</td>\n",
       "      <td>6</td>\n",
       "      <td>White</td>\n",
       "      <td>Reasonable Suspicion</td>\n",
       "      <td>None</td>\n",
       "      <td>None</td>\n",
       "    </tr>\n",
       "    <tr>\n",
       "      <th>1</th>\n",
       "      <td>18</td>\n",
       "      <td>2018-07-01</td>\n",
       "      <td>00:03:34</td>\n",
       "      <td>10</td>\n",
       "      <td>0</td>\n",
       "      <td>1</td>\n",
       "      <td>0</td>\n",
       "      <td>0</td>\n",
       "      <td>0</td>\n",
       "      <td>25</td>\n",
       "      <td>Male</td>\n",
       "      <td>No</td>\n",
       "      <td>2</td>\n",
       "      <td>White</td>\n",
       "      <td>Traffic Violation</td>\n",
       "      <td>None</td>\n",
       "      <td>None</td>\n",
       "    </tr>\n",
       "    <tr>\n",
       "      <th>2</th>\n",
       "      <td>1</td>\n",
       "      <td>2018-07-01</td>\n",
       "      <td>00:05:43</td>\n",
       "      <td>15</td>\n",
       "      <td>1</td>\n",
       "      <td>10</td>\n",
       "      <td>0</td>\n",
       "      <td>0</td>\n",
       "      <td>0</td>\n",
       "      <td>30</td>\n",
       "      <td>Male</td>\n",
       "      <td>No</td>\n",
       "      <td>1</td>\n",
       "      <td>Hispanic/Latino/a</td>\n",
       "      <td>Reasonable Suspicion</td>\n",
       "      <td>Curbside detention</td>\n",
       "      <td>None</td>\n",
       "    </tr>\n",
       "    <tr>\n",
       "      <th>3</th>\n",
       "      <td>1</td>\n",
       "      <td>2018-07-01</td>\n",
       "      <td>00:05:43</td>\n",
       "      <td>15</td>\n",
       "      <td>1</td>\n",
       "      <td>10</td>\n",
       "      <td>0</td>\n",
       "      <td>0</td>\n",
       "      <td>0</td>\n",
       "      <td>30</td>\n",
       "      <td>Female</td>\n",
       "      <td>No</td>\n",
       "      <td>1</td>\n",
       "      <td>Hispanic/Latino/a</td>\n",
       "      <td>Reasonable Suspicion</td>\n",
       "      <td>Curbside detention</td>\n",
       "      <td>None</td>\n",
       "    </tr>\n",
       "    <tr>\n",
       "      <th>4</th>\n",
       "      <td>3</td>\n",
       "      <td>2018-07-01</td>\n",
       "      <td>00:19:06</td>\n",
       "      <td>5</td>\n",
       "      <td>0</td>\n",
       "      <td>1</td>\n",
       "      <td>0</td>\n",
       "      <td>0</td>\n",
       "      <td>0</td>\n",
       "      <td>23</td>\n",
       "      <td>Male</td>\n",
       "      <td>No</td>\n",
       "      <td>1</td>\n",
       "      <td>White</td>\n",
       "      <td>Traffic Violation</td>\n",
       "      <td>None</td>\n",
       "      <td>None</td>\n",
       "    </tr>\n",
       "  </tbody>\n",
       "</table>\n",
       "</div>"
      ],
      "text/plain": [
       "   exp_years   date_stop time_stop  stopduration  stop_in_response_to_cfs  \\\n",
       "0         10  2018-07-01  00:01:37            30                        0   \n",
       "1         18  2018-07-01  00:03:34            10                        0   \n",
       "2          1  2018-07-01  00:05:43            15                        1   \n",
       "3          1  2018-07-01  00:05:43            15                        1   \n",
       "4          3  2018-07-01  00:19:06             5                        0   \n",
       "\n",
       "   officer_assignment_key  isschool  isstudent  perceived_limited_english  \\\n",
       "0                       1         0          0                          0   \n",
       "1                       1         0          0                          0   \n",
       "2                      10         0          0                          0   \n",
       "3                      10         0          0                          0   \n",
       "4                       1         0          0                          0   \n",
       "\n",
       "   perceived_age perceived_gender perceived_lgbt  resultkey  \\\n",
       "0             25             Male             No          6   \n",
       "1             25             Male             No          2   \n",
       "2             30             Male             No          1   \n",
       "3             30           Female             No          1   \n",
       "4             23             Male             No          1   \n",
       "\n",
       "                race       reason_for_stop              action contraband  \n",
       "0              White  Reasonable Suspicion                None       None  \n",
       "1              White     Traffic Violation                None       None  \n",
       "2  Hispanic/Latino/a  Reasonable Suspicion  Curbside detention       None  \n",
       "3  Hispanic/Latino/a  Reasonable Suspicion  Curbside detention       None  \n",
       "4              White     Traffic Violation                None       None  "
      ]
     },
     "execution_count": 10,
     "metadata": {},
     "output_type": "execute_result"
    }
   ],
   "source": [
    "ripa_data.head()"
   ]
  },
  {
   "cell_type": "code",
   "execution_count": 11,
   "id": "natural-country",
   "metadata": {},
   "outputs": [],
   "source": [
    "ripa_data = ripa_data.fillna('Non-Conforming') # we fill this because only the gender column had non-conforming values"
   ]
  },
  {
   "cell_type": "code",
   "execution_count": 12,
   "id": "reliable-current",
   "metadata": {},
   "outputs": [],
   "source": [
    "model_data = ripa_data"
   ]
  },
  {
   "cell_type": "code",
   "execution_count": 13,
   "id": "ruled-triple",
   "metadata": {},
   "outputs": [
    {
     "data": {
      "text/plain": [
       "exp_years                    False\n",
       "date_stop                     True\n",
       "time_stop                     True\n",
       "stopduration                 False\n",
       "stop_in_response_to_cfs      False\n",
       "officer_assignment_key       False\n",
       "isschool                     False\n",
       "isstudent                    False\n",
       "perceived_limited_english    False\n",
       "perceived_age                False\n",
       "perceived_gender              True\n",
       "perceived_lgbt                True\n",
       "resultkey                    False\n",
       "race                          True\n",
       "reason_for_stop               True\n",
       "action                        True\n",
       "contraband                    True\n",
       "dtype: bool"
      ]
     },
     "execution_count": 13,
     "metadata": {},
     "output_type": "execute_result"
    }
   ],
   "source": [
    "model_data.dtypes == 'object'"
   ]
  },
  {
   "cell_type": "code",
   "execution_count": 14,
   "id": "alike-cigarette",
   "metadata": {},
   "outputs": [],
   "source": [
    "model_data['perceived_gender'] = model_data['perceived_gender'].astype('category')\n",
    "model_data[\"gender_cat\"] = model_data[\"perceived_gender\"].cat.codes\n",
    "model_data['perceived_lgbt'] = model_data['perceived_lgbt'].astype('category')\n",
    "model_data[\"lgbt_cat\"] = model_data[\"perceived_lgbt\"].cat.codes\n",
    "model_data['race'] = model_data['race'].astype('category')\n",
    "model_data[\"race_cat\"] = model_data[\"race\"].cat.codes\n",
    "model_data['reason_for_stop'] = model_data['reason_for_stop'].astype('category')\n",
    "model_data[\"stop_cat\"] = model_data[\"reason_for_stop\"].cat.codes\n",
    "model_data['action'] = model_data['action'].astype('category')\n",
    "model_data[\"action_cat\"] = model_data[\"action\"].cat.codes\n",
    "model_data['contraband'] = model_data['contraband'].astype('category')\n",
    "model_data[\"contraband_cat\"] = model_data[\"contraband\"].cat.codes\n",
    "            "
   ]
  },
  {
   "cell_type": "code",
   "execution_count": 15,
   "id": "wicked-species",
   "metadata": {},
   "outputs": [
    {
     "data": {
      "text/html": [
       "<div>\n",
       "<style scoped>\n",
       "    .dataframe tbody tr th:only-of-type {\n",
       "        vertical-align: middle;\n",
       "    }\n",
       "\n",
       "    .dataframe tbody tr th {\n",
       "        vertical-align: top;\n",
       "    }\n",
       "\n",
       "    .dataframe thead th {\n",
       "        text-align: right;\n",
       "    }\n",
       "</style>\n",
       "<table border=\"1\" class=\"dataframe\">\n",
       "  <thead>\n",
       "    <tr style=\"text-align: right;\">\n",
       "      <th></th>\n",
       "      <th>exp_years</th>\n",
       "      <th>date_stop</th>\n",
       "      <th>time_stop</th>\n",
       "      <th>stopduration</th>\n",
       "      <th>stop_in_response_to_cfs</th>\n",
       "      <th>officer_assignment_key</th>\n",
       "      <th>isschool</th>\n",
       "      <th>isstudent</th>\n",
       "      <th>perceived_limited_english</th>\n",
       "      <th>perceived_age</th>\n",
       "      <th>...</th>\n",
       "      <th>race</th>\n",
       "      <th>reason_for_stop</th>\n",
       "      <th>action</th>\n",
       "      <th>contraband</th>\n",
       "      <th>gender_cat</th>\n",
       "      <th>lgbt_cat</th>\n",
       "      <th>race_cat</th>\n",
       "      <th>stop_cat</th>\n",
       "      <th>action_cat</th>\n",
       "      <th>contraband_cat</th>\n",
       "    </tr>\n",
       "  </thead>\n",
       "  <tbody>\n",
       "    <tr>\n",
       "      <th>0</th>\n",
       "      <td>10</td>\n",
       "      <td>2018-07-01</td>\n",
       "      <td>00:01:37</td>\n",
       "      <td>30</td>\n",
       "      <td>0</td>\n",
       "      <td>1</td>\n",
       "      <td>0</td>\n",
       "      <td>0</td>\n",
       "      <td>0</td>\n",
       "      <td>25</td>\n",
       "      <td>...</td>\n",
       "      <td>White</td>\n",
       "      <td>Reasonable Suspicion</td>\n",
       "      <td>None</td>\n",
       "      <td>None</td>\n",
       "      <td>1</td>\n",
       "      <td>0</td>\n",
       "      <td>6</td>\n",
       "      <td>6</td>\n",
       "      <td>14</td>\n",
       "      <td>7</td>\n",
       "    </tr>\n",
       "    <tr>\n",
       "      <th>1</th>\n",
       "      <td>18</td>\n",
       "      <td>2018-07-01</td>\n",
       "      <td>00:03:34</td>\n",
       "      <td>10</td>\n",
       "      <td>0</td>\n",
       "      <td>1</td>\n",
       "      <td>0</td>\n",
       "      <td>0</td>\n",
       "      <td>0</td>\n",
       "      <td>25</td>\n",
       "      <td>...</td>\n",
       "      <td>White</td>\n",
       "      <td>Traffic Violation</td>\n",
       "      <td>None</td>\n",
       "      <td>None</td>\n",
       "      <td>1</td>\n",
       "      <td>0</td>\n",
       "      <td>6</td>\n",
       "      <td>7</td>\n",
       "      <td>14</td>\n",
       "      <td>7</td>\n",
       "    </tr>\n",
       "    <tr>\n",
       "      <th>2</th>\n",
       "      <td>1</td>\n",
       "      <td>2018-07-01</td>\n",
       "      <td>00:05:43</td>\n",
       "      <td>15</td>\n",
       "      <td>1</td>\n",
       "      <td>10</td>\n",
       "      <td>0</td>\n",
       "      <td>0</td>\n",
       "      <td>0</td>\n",
       "      <td>30</td>\n",
       "      <td>...</td>\n",
       "      <td>Hispanic/Latino/a</td>\n",
       "      <td>Reasonable Suspicion</td>\n",
       "      <td>Curbside detention</td>\n",
       "      <td>None</td>\n",
       "      <td>1</td>\n",
       "      <td>0</td>\n",
       "      <td>2</td>\n",
       "      <td>6</td>\n",
       "      <td>7</td>\n",
       "      <td>7</td>\n",
       "    </tr>\n",
       "    <tr>\n",
       "      <th>3</th>\n",
       "      <td>1</td>\n",
       "      <td>2018-07-01</td>\n",
       "      <td>00:05:43</td>\n",
       "      <td>15</td>\n",
       "      <td>1</td>\n",
       "      <td>10</td>\n",
       "      <td>0</td>\n",
       "      <td>0</td>\n",
       "      <td>0</td>\n",
       "      <td>30</td>\n",
       "      <td>...</td>\n",
       "      <td>Hispanic/Latino/a</td>\n",
       "      <td>Reasonable Suspicion</td>\n",
       "      <td>Curbside detention</td>\n",
       "      <td>None</td>\n",
       "      <td>0</td>\n",
       "      <td>0</td>\n",
       "      <td>2</td>\n",
       "      <td>6</td>\n",
       "      <td>7</td>\n",
       "      <td>7</td>\n",
       "    </tr>\n",
       "    <tr>\n",
       "      <th>4</th>\n",
       "      <td>3</td>\n",
       "      <td>2018-07-01</td>\n",
       "      <td>00:19:06</td>\n",
       "      <td>5</td>\n",
       "      <td>0</td>\n",
       "      <td>1</td>\n",
       "      <td>0</td>\n",
       "      <td>0</td>\n",
       "      <td>0</td>\n",
       "      <td>23</td>\n",
       "      <td>...</td>\n",
       "      <td>White</td>\n",
       "      <td>Traffic Violation</td>\n",
       "      <td>None</td>\n",
       "      <td>None</td>\n",
       "      <td>1</td>\n",
       "      <td>0</td>\n",
       "      <td>6</td>\n",
       "      <td>7</td>\n",
       "      <td>14</td>\n",
       "      <td>7</td>\n",
       "    </tr>\n",
       "  </tbody>\n",
       "</table>\n",
       "<p>5 rows × 23 columns</p>\n",
       "</div>"
      ],
      "text/plain": [
       "   exp_years   date_stop time_stop  stopduration  stop_in_response_to_cfs  \\\n",
       "0         10  2018-07-01  00:01:37            30                        0   \n",
       "1         18  2018-07-01  00:03:34            10                        0   \n",
       "2          1  2018-07-01  00:05:43            15                        1   \n",
       "3          1  2018-07-01  00:05:43            15                        1   \n",
       "4          3  2018-07-01  00:19:06             5                        0   \n",
       "\n",
       "   officer_assignment_key  isschool  isstudent  perceived_limited_english  \\\n",
       "0                       1         0          0                          0   \n",
       "1                       1         0          0                          0   \n",
       "2                      10         0          0                          0   \n",
       "3                      10         0          0                          0   \n",
       "4                       1         0          0                          0   \n",
       "\n",
       "   perceived_age  ...               race       reason_for_stop  \\\n",
       "0             25  ...              White  Reasonable Suspicion   \n",
       "1             25  ...              White     Traffic Violation   \n",
       "2             30  ...  Hispanic/Latino/a  Reasonable Suspicion   \n",
       "3             30  ...  Hispanic/Latino/a  Reasonable Suspicion   \n",
       "4             23  ...              White     Traffic Violation   \n",
       "\n",
       "               action contraband gender_cat lgbt_cat race_cat  stop_cat  \\\n",
       "0                None       None          1        0        6         6   \n",
       "1                None       None          1        0        6         7   \n",
       "2  Curbside detention       None          1        0        2         6   \n",
       "3  Curbside detention       None          0        0        2         6   \n",
       "4                None       None          1        0        6         7   \n",
       "\n",
       "   action_cat  contraband_cat  \n",
       "0          14               7  \n",
       "1          14               7  \n",
       "2           7               7  \n",
       "3           7               7  \n",
       "4          14               7  \n",
       "\n",
       "[5 rows x 23 columns]"
      ]
     },
     "execution_count": 15,
     "metadata": {},
     "output_type": "execute_result"
    }
   ],
   "source": [
    "model_data.head()"
   ]
  },
  {
   "cell_type": "code",
   "execution_count": 16,
   "id": "collected-blanket",
   "metadata": {},
   "outputs": [
    {
     "data": {
      "text/plain": [
       "exp_years                       int64\n",
       "date_stop                      object\n",
       "time_stop                      object\n",
       "stopduration                    int64\n",
       "stop_in_response_to_cfs         int64\n",
       "officer_assignment_key          int64\n",
       "isschool                        int64\n",
       "isstudent                       int64\n",
       "perceived_limited_english       int64\n",
       "perceived_age                   int64\n",
       "perceived_gender             category\n",
       "perceived_lgbt               category\n",
       "resultkey                       int64\n",
       "race                         category\n",
       "reason_for_stop              category\n",
       "action                       category\n",
       "contraband                   category\n",
       "gender_cat                       int8\n",
       "lgbt_cat                         int8\n",
       "race_cat                         int8\n",
       "stop_cat                         int8\n",
       "action_cat                       int8\n",
       "contraband_cat                   int8\n",
       "dtype: object"
      ]
     },
     "execution_count": 16,
     "metadata": {},
     "output_type": "execute_result"
    }
   ],
   "source": [
    "model_data.dtypes"
   ]
  },
  {
   "cell_type": "code",
   "execution_count": 17,
   "id": "advance-republic",
   "metadata": {},
   "outputs": [],
   "source": [
    "model_data['date_stop'] = pd.to_datetime(model_data['date_stop']).dt.strftime(\"%m\")\n",
    "model_data['time_stop'] = pd.to_datetime(model_data['time_stop']).dt.strftime('%H')"
   ]
  },
  {
   "cell_type": "code",
   "execution_count": 18,
   "id": "lasting-vector",
   "metadata": {},
   "outputs": [],
   "source": [
    "model_data['date_stop'] = model_data['date_stop'].astype(str).astype(int)\n",
    "model_data['time_stop'] = model_data['time_stop'].astype(str).astype(int)"
   ]
  },
  {
   "cell_type": "code",
   "execution_count": 19,
   "id": "industrial-retirement",
   "metadata": {},
   "outputs": [
    {
     "data": {
      "text/plain": [
       "exp_years                       int64\n",
       "date_stop                       int64\n",
       "time_stop                       int64\n",
       "stopduration                    int64\n",
       "stop_in_response_to_cfs         int64\n",
       "officer_assignment_key          int64\n",
       "isschool                        int64\n",
       "isstudent                       int64\n",
       "perceived_limited_english       int64\n",
       "perceived_age                   int64\n",
       "perceived_gender             category\n",
       "perceived_lgbt               category\n",
       "resultkey                       int64\n",
       "race                         category\n",
       "reason_for_stop              category\n",
       "action                       category\n",
       "contraband                   category\n",
       "gender_cat                       int8\n",
       "lgbt_cat                         int8\n",
       "race_cat                         int8\n",
       "stop_cat                         int8\n",
       "action_cat                       int8\n",
       "contraband_cat                   int8\n",
       "dtype: object"
      ]
     },
     "execution_count": 19,
     "metadata": {},
     "output_type": "execute_result"
    }
   ],
   "source": [
    "model_data.dtypes"
   ]
  },
  {
   "cell_type": "code",
   "execution_count": 20,
   "id": "disturbed-gentleman",
   "metadata": {},
   "outputs": [],
   "source": [
    "model_data = model_data.drop(['perceived_gender','perceived_lgbt','race','reason_for_stop','action','contraband'],axis=1)"
   ]
  },
  {
   "cell_type": "code",
   "execution_count": 21,
   "id": "spread-significance",
   "metadata": {},
   "outputs": [
    {
     "data": {
      "text/html": [
       "<div>\n",
       "<style scoped>\n",
       "    .dataframe tbody tr th:only-of-type {\n",
       "        vertical-align: middle;\n",
       "    }\n",
       "\n",
       "    .dataframe tbody tr th {\n",
       "        vertical-align: top;\n",
       "    }\n",
       "\n",
       "    .dataframe thead th {\n",
       "        text-align: right;\n",
       "    }\n",
       "</style>\n",
       "<table border=\"1\" class=\"dataframe\">\n",
       "  <thead>\n",
       "    <tr style=\"text-align: right;\">\n",
       "      <th></th>\n",
       "      <th>exp_years</th>\n",
       "      <th>date_stop</th>\n",
       "      <th>time_stop</th>\n",
       "      <th>stopduration</th>\n",
       "      <th>stop_in_response_to_cfs</th>\n",
       "      <th>officer_assignment_key</th>\n",
       "      <th>isschool</th>\n",
       "      <th>isstudent</th>\n",
       "      <th>perceived_limited_english</th>\n",
       "      <th>perceived_age</th>\n",
       "      <th>resultkey</th>\n",
       "      <th>gender_cat</th>\n",
       "      <th>lgbt_cat</th>\n",
       "      <th>race_cat</th>\n",
       "      <th>stop_cat</th>\n",
       "      <th>action_cat</th>\n",
       "      <th>contraband_cat</th>\n",
       "    </tr>\n",
       "  </thead>\n",
       "  <tbody>\n",
       "    <tr>\n",
       "      <th>0</th>\n",
       "      <td>10</td>\n",
       "      <td>7</td>\n",
       "      <td>0</td>\n",
       "      <td>30</td>\n",
       "      <td>0</td>\n",
       "      <td>1</td>\n",
       "      <td>0</td>\n",
       "      <td>0</td>\n",
       "      <td>0</td>\n",
       "      <td>25</td>\n",
       "      <td>6</td>\n",
       "      <td>1</td>\n",
       "      <td>0</td>\n",
       "      <td>6</td>\n",
       "      <td>6</td>\n",
       "      <td>14</td>\n",
       "      <td>7</td>\n",
       "    </tr>\n",
       "    <tr>\n",
       "      <th>1</th>\n",
       "      <td>18</td>\n",
       "      <td>7</td>\n",
       "      <td>0</td>\n",
       "      <td>10</td>\n",
       "      <td>0</td>\n",
       "      <td>1</td>\n",
       "      <td>0</td>\n",
       "      <td>0</td>\n",
       "      <td>0</td>\n",
       "      <td>25</td>\n",
       "      <td>2</td>\n",
       "      <td>1</td>\n",
       "      <td>0</td>\n",
       "      <td>6</td>\n",
       "      <td>7</td>\n",
       "      <td>14</td>\n",
       "      <td>7</td>\n",
       "    </tr>\n",
       "    <tr>\n",
       "      <th>2</th>\n",
       "      <td>1</td>\n",
       "      <td>7</td>\n",
       "      <td>0</td>\n",
       "      <td>15</td>\n",
       "      <td>1</td>\n",
       "      <td>10</td>\n",
       "      <td>0</td>\n",
       "      <td>0</td>\n",
       "      <td>0</td>\n",
       "      <td>30</td>\n",
       "      <td>1</td>\n",
       "      <td>1</td>\n",
       "      <td>0</td>\n",
       "      <td>2</td>\n",
       "      <td>6</td>\n",
       "      <td>7</td>\n",
       "      <td>7</td>\n",
       "    </tr>\n",
       "    <tr>\n",
       "      <th>3</th>\n",
       "      <td>1</td>\n",
       "      <td>7</td>\n",
       "      <td>0</td>\n",
       "      <td>15</td>\n",
       "      <td>1</td>\n",
       "      <td>10</td>\n",
       "      <td>0</td>\n",
       "      <td>0</td>\n",
       "      <td>0</td>\n",
       "      <td>30</td>\n",
       "      <td>1</td>\n",
       "      <td>0</td>\n",
       "      <td>0</td>\n",
       "      <td>2</td>\n",
       "      <td>6</td>\n",
       "      <td>7</td>\n",
       "      <td>7</td>\n",
       "    </tr>\n",
       "    <tr>\n",
       "      <th>4</th>\n",
       "      <td>3</td>\n",
       "      <td>7</td>\n",
       "      <td>0</td>\n",
       "      <td>5</td>\n",
       "      <td>0</td>\n",
       "      <td>1</td>\n",
       "      <td>0</td>\n",
       "      <td>0</td>\n",
       "      <td>0</td>\n",
       "      <td>23</td>\n",
       "      <td>1</td>\n",
       "      <td>1</td>\n",
       "      <td>0</td>\n",
       "      <td>6</td>\n",
       "      <td>7</td>\n",
       "      <td>14</td>\n",
       "      <td>7</td>\n",
       "    </tr>\n",
       "  </tbody>\n",
       "</table>\n",
       "</div>"
      ],
      "text/plain": [
       "   exp_years  date_stop  time_stop  stopduration  stop_in_response_to_cfs  \\\n",
       "0         10          7          0            30                        0   \n",
       "1         18          7          0            10                        0   \n",
       "2          1          7          0            15                        1   \n",
       "3          1          7          0            15                        1   \n",
       "4          3          7          0             5                        0   \n",
       "\n",
       "   officer_assignment_key  isschool  isstudent  perceived_limited_english  \\\n",
       "0                       1         0          0                          0   \n",
       "1                       1         0          0                          0   \n",
       "2                      10         0          0                          0   \n",
       "3                      10         0          0                          0   \n",
       "4                       1         0          0                          0   \n",
       "\n",
       "   perceived_age  resultkey  gender_cat  lgbt_cat  race_cat  stop_cat  \\\n",
       "0             25          6           1         0         6         6   \n",
       "1             25          2           1         0         6         7   \n",
       "2             30          1           1         0         2         6   \n",
       "3             30          1           0         0         2         6   \n",
       "4             23          1           1         0         6         7   \n",
       "\n",
       "   action_cat  contraband_cat  \n",
       "0          14               7  \n",
       "1          14               7  \n",
       "2           7               7  \n",
       "3           7               7  \n",
       "4          14               7  "
      ]
     },
     "execution_count": 21,
     "metadata": {},
     "output_type": "execute_result"
    }
   ],
   "source": [
    "model_data.head()"
   ]
  },
  {
   "cell_type": "code",
   "execution_count": 22,
   "id": "sized-bedroom",
   "metadata": {},
   "outputs": [],
   "source": [
    "target = np.array(model_data['resultkey'])\n",
    "model_data_df = model_data.drop('resultkey',axis = 1)\n",
    "model_datalist = list(model_data_df.columns)\n",
    "model_data = np.array(model_data_df)\n"
   ]
  },
  {
   "cell_type": "code",
   "execution_count": 23,
   "id": "powerful-jersey",
   "metadata": {},
   "outputs": [],
   "source": [
    "train_data,test_data,train_target,test_target = train_test_split(model_data,target, test_size=0.2, random_state = 42)"
   ]
  },
  {
   "cell_type": "code",
   "execution_count": 24,
   "id": "arbitrary-coordination",
   "metadata": {},
   "outputs": [
    {
     "name": "stdout",
     "output_type": "stream",
     "text": [
      "Training Data Shape: (423680, 16)\n",
      "Training Target Shape: (423680,)\n",
      "Testing Data Shape: (105920, 16)\n",
      "Testing Target Shape: (105920,)\n"
     ]
    }
   ],
   "source": [
    "print('Training Data Shape:', train_data.shape)\n",
    "print('Training Target Shape:', train_target.shape)\n",
    "print('Testing Data Shape:', test_data.shape)\n",
    "print('Testing Target Shape:', test_target.shape)"
   ]
  },
  {
   "cell_type": "code",
   "execution_count": 25,
   "id": "happy-heart",
   "metadata": {},
   "outputs": [],
   "source": [
    "from sklearn.ensemble import RandomForestClassifier\n",
    "rnd_clf = RandomForestClassifier(n_estimators = 500, max_leaf_nodes = 16, n_jobs = 1, random_state = 42)\n",
    "rnd_clf.fit(train_data, train_target)\n",
    "\n",
    "y_pred_rf = rnd_clf.predict(test_data)"
   ]
  },
  {
   "cell_type": "code",
   "execution_count": 26,
   "id": "level-worst",
   "metadata": {},
   "outputs": [
    {
     "data": {
      "text/plain": [
       "0.4635196374622356"
      ]
     },
     "execution_count": 26,
     "metadata": {},
     "output_type": "execute_result"
    }
   ],
   "source": [
    "#get accuracy score\n",
    "accuracy_score(test_target, y_pred_rf)"
   ]
  },
  {
   "cell_type": "code",
   "execution_count": 27,
   "id": "sunset-accident",
   "metadata": {},
   "outputs": [
    {
     "name": "stdout",
     "output_type": "stream",
     "text": [
      "exp_years 0.1427228241723425\n",
      "date_stop 0.00023600313288412299\n",
      "time_stop 0.014864664010519517\n",
      "stopduration 0.2462396454126632\n",
      "stop_in_response_to_cfs 0.025886912650988116\n",
      "officer_assignment_key 0.014273870471435808\n",
      "isschool 0.0\n",
      "isstudent 0.0\n",
      "perceived_limited_english 0.0\n",
      "perceived_age 0.004001256009849464\n",
      "gender_cat 0.0013997736089197829\n",
      "lgbt_cat 1.7832785319773246e-05\n",
      "race_cat 0.0029223162282457386\n",
      "stop_cat 0.3801133207943807\n",
      "action_cat 0.10877036243056644\n",
      "contraband_cat 0.05855121829188488\n"
     ]
    }
   ],
   "source": [
    "for name, score in zip(model_datalist,\n",
    "rnd_clf.feature_importances_):\n",
    "    print(name, score)"
   ]
  },
  {
   "cell_type": "code",
   "execution_count": 28,
   "id": "killing-moscow",
   "metadata": {},
   "outputs": [
    {
     "data": {
      "text/plain": [
       "array([13,  3,  0, 14, 15,  4,  2,  5,  9, 12, 10,  1, 11,  8,  7,  6])"
      ]
     },
     "execution_count": 28,
     "metadata": {},
     "output_type": "execute_result"
    }
   ],
   "source": [
    "#lets get this list in descending order\n",
    "\n",
    "importances = rnd_clf.feature_importances_\n",
    "\n",
    "sorted_indices = np.argsort(importances)[::-1]\n",
    "\n",
    "sorted_indices"
   ]
  },
  {
   "cell_type": "code",
   "execution_count": 29,
   "id": "manual-middle",
   "metadata": {},
   "outputs": [
    {
     "data": {
      "text/plain": [
       "['stop_cat', 'stopduration', 'exp_years', 'action_cat', 'contraband_cat']"
      ]
     },
     "execution_count": 29,
     "metadata": {},
     "output_type": "execute_result"
    }
   ],
   "source": [
    "#lets get top five features: 13, 3, 0, 14, 15\n",
    "\n",
    "top_five_features = list(model_datalist[i] for i in [13, 3, 0, 14, 15])\n",
    "top_five_features"
   ]
  },
  {
   "cell_type": "code",
   "execution_count": 30,
   "id": "conceptual-amateur",
   "metadata": {},
   "outputs": [],
   "source": [
    "rfc = RandomForestClassifier(n_estimators = 500, random_state=42)"
   ]
  },
  {
   "cell_type": "code",
   "execution_count": 31,
   "id": "mathematical-collar",
   "metadata": {},
   "outputs": [],
   "source": [
    "#create a grid for hyperparameters\n",
    "\n",
    "#number of trees in random forest\n",
    "#n_estimators = [int(x) for x in np.linspace(start = 0, stop = 1000, num =10)]\n",
    "\n",
    "#number of features to consider\n",
    "max_features = ['auto', 'log2']\n",
    "\n",
    "#maximum number of levels in tree\n",
    "max_depth = [int(x) for x in np.linspace(10,110, num = 11)]\n",
    "max_depth.append(None)\n",
    "\n",
    "#minimum number of samples to split a node\n",
    "min_samples_split = [2, 4, 10]\n",
    "\n",
    "#minimum number of samples at each leaf node\n",
    "min_samples_leaf = [1, 2, 4]\n",
    "\n",
    "\n",
    "\n",
    "#create a grid \n",
    "grid = {\n",
    "    #'n_estimators': n_estimators,\n",
    "    'max_features':max_features,\n",
    "    'max_depth':max_depth,\n",
    "    'min_samples_split':min_samples_split,\n",
    "    'min_samples_leaf':min_samples_leaf\n",
    "}"
   ]
  },
  {
   "cell_type": "code",
   "execution_count": 32,
   "id": "intelligent-thursday",
   "metadata": {},
   "outputs": [],
   "source": [
    "#now run the grid search \n",
    "    #we will use scikit-learn HalvingRandomSearchCV which is experimental but faster\n",
    "\n",
    "#import statements\n",
    "from sklearn.experimental import enable_halving_search_cv\n",
    "from sklearn.model_selection import HalvingRandomSearchCV\n",
    "from sklearn.model_selection import RepeatedStratifiedKFold\n",
    "\n",
    "from sklearn.model_selection import cross_val_score"
   ]
  },
  {
   "cell_type": "code",
   "execution_count": 33,
   "id": "primary-challenge",
   "metadata": {},
   "outputs": [
    {
     "name": "stderr",
     "output_type": "stream",
     "text": [
      "/opt/anaconda3/lib/python3.8/site-packages/sklearn/model_selection/_search.py:285: UserWarning: The total space of parameters 216 is smaller than n_iter=3259. Running 216 iterations. For exhaustive searches, use GridSearchCV.\n",
      "  warnings.warn(\n",
      "/opt/anaconda3/lib/python3.8/site-packages/sklearn/model_selection/_split.py:666: UserWarning: The least populated class in y has only 4 members, which is less than n_splits=5.\n",
      "  warnings.warn((\"The least populated class in y has only %d\"\n",
      "/opt/anaconda3/lib/python3.8/site-packages/sklearn/model_selection/_split.py:666: UserWarning: The least populated class in y has only 4 members, which is less than n_splits=5.\n",
      "  warnings.warn((\"The least populated class in y has only %d\"\n",
      "/opt/anaconda3/lib/python3.8/site-packages/sklearn/model_selection/_split.py:666: UserWarning: The least populated class in y has only 4 members, which is less than n_splits=5.\n",
      "  warnings.warn((\"The least populated class in y has only %d\"\n",
      "/opt/anaconda3/lib/python3.8/site-packages/joblib/externals/loky/process_executor.py:688: UserWarning: A worker stopped while some jobs were given to the executor. This can be caused by a too short worker timeout or by a memory leak.\n",
      "  warnings.warn(\n",
      "/opt/anaconda3/lib/python3.8/site-packages/sklearn/model_selection/_split.py:666: UserWarning: The least populated class in y has only 4 members, which is less than n_splits=5.\n",
      "  warnings.warn((\"The least populated class in y has only %d\"\n",
      "/opt/anaconda3/lib/python3.8/site-packages/joblib/externals/loky/process_executor.py:688: UserWarning: A worker stopped while some jobs were given to the executor. This can be caused by a too short worker timeout or by a memory leak.\n",
      "  warnings.warn(\n"
     ]
    },
    {
     "data": {
      "text/plain": [
       "HalvingRandomSearchCV(estimator=RandomForestClassifier(n_estimators=500,\n",
       "                                                       random_state=42),\n",
       "                      factor=4, n_jobs=-1,\n",
       "                      param_distributions={'max_depth': [10, 20, 30, 40, 50, 60,\n",
       "                                                         70, 80, 90, 100, 110,\n",
       "                                                         None],\n",
       "                                           'max_features': ['auto', 'log2'],\n",
       "                                           'min_samples_leaf': [1, 2, 4],\n",
       "                                           'min_samples_split': [2, 4, 10]},\n",
       "                      random_state=42,\n",
       "                      refit=<function _refit_callable at 0x7fc5970e85e0>)"
      ]
     },
     "execution_count": 33,
     "metadata": {},
     "output_type": "execute_result"
    }
   ],
   "source": [
    "#now conducting the Halving Random Search CV\n",
    "    #CV is automatically set to stratified k fold because the target variable Y is multiclass. \n",
    "search_rfc = HalvingRandomSearchCV(rfc, param_distributions = grid, \n",
    "                           random_state = 42, n_jobs=-1,\n",
    "                                   n_candidates = \"exhaust\",\n",
    "                                   factor=4\n",
    "                                  ) #use default 5 fold cross validation\n",
    "\n",
    "search_rfc.fit(train_data, train_target)"
   ]
  },
  {
   "cell_type": "code",
   "execution_count": 34,
   "id": "gothic-heather",
   "metadata": {},
   "outputs": [
    {
     "name": "stdout",
     "output_type": "stream",
     "text": [
      "0.4876201923076923\n",
      "{'min_samples_split': 10, 'min_samples_leaf': 1, 'max_features': 'auto', 'max_depth': 40}\n"
     ]
    }
   ],
   "source": [
    "#lets get the score and best parameters \n",
    "print(search_rfc.best_score_) #mean cross validated score of the best estimator\n",
    "print(search_rfc.best_params_) #parameters that gave best results"
   ]
  },
  {
   "cell_type": "code",
   "execution_count": 35,
   "id": "hourly-gibraltar",
   "metadata": {},
   "outputs": [
    {
     "name": "stdout",
     "output_type": "stream",
     "text": [
      "0.5531155589123867\n"
     ]
    }
   ],
   "source": [
    "#get accuracy score \n",
    "\n",
    "y_prediction = search_rfc.predict(test_data)\n",
    "\n",
    "print(accuracy_score(test_target, y_prediction))"
   ]
  },
  {
   "cell_type": "code",
   "execution_count": 36,
   "id": "mature-marketing",
   "metadata": {},
   "outputs": [
    {
     "data": {
      "text/plain": [
       "array([[ 3346,  2836,  1453,    42,   102,   593,  4971,    19,     3,\n",
       "          360,     0,     0,     0],\n",
       "       [ 1274,  8669,  4962,   236,    23,   269,  3856,     1,     0,\n",
       "           91,     0,     0,     0],\n",
       "       [  368,  2613, 19621,   464,    23,   316,  2472,    10,     5,\n",
       "           63,     0,     0,     0],\n",
       "       [  101,   226,  1507,  1801,    31,   755,  1005,     5,     2,\n",
       "          147,     0,     0,     0],\n",
       "       [  138,    60,    84,   108,   825,  1390,   677,     6,     0,\n",
       "          248,     0,     0,     0],\n",
       "       [  282,    95,   205,   342,   252,  6284,  1329,    63,     9,\n",
       "          788,     0,     0,     0],\n",
       "       [ 1670,  1331,  1187,   145,   104,   957, 15679,    25,     6,\n",
       "          371,     0,     0,     0],\n",
       "       [  158,    29,    51,    20,    15,   458,   503,   275,     1,\n",
       "          324,     0,     0,     0],\n",
       "       [   26,     3,    10,     0,     1,    54,    30,     3,    57,\n",
       "           81,     0,     1,     0],\n",
       "       [  266,    31,    10,    11,    42,  1354,   757,     5,     6,\n",
       "         2027,     0,     0,     0],\n",
       "       [    0,     1,     0,     0,     0,     0,     0,     0,     0,\n",
       "            0,     0,     0,     0],\n",
       "       [    1,     0,     0,     1,     0,     0,     0,     0,     2,\n",
       "            1,     0,     2,     0],\n",
       "       [    1,     0,     0,     0,     0,     0,     0,     0,     1,\n",
       "            0,     0,     0,     0]])"
      ]
     },
     "execution_count": 36,
     "metadata": {},
     "output_type": "execute_result"
    }
   ],
   "source": [
    "#lets add a confusion matrix to see where it is underperforming\n",
    "from sklearn.metrics import confusion_matrix, classification_report\n",
    "\n",
    "confusion_matrix(test_target, y_prediction)"
   ]
  },
  {
   "cell_type": "code",
   "execution_count": 37,
   "id": "valuable-allah",
   "metadata": {},
   "outputs": [
    {
     "data": {
      "image/png": "[encoded data removed]",
      "text/plain": [
       "<Figure size 1152x504 with 2 Axes>"
      ]
     },
     "metadata": {
      "needs_background": "light"
     },
     "output_type": "display_data"
    }
   ],
   "source": [
    "#try to plot a heat map for the confusion matrix \n",
    "\n",
    "import seaborn as sns \n",
    "import matplotlib.pyplot as plt\n",
    "\n",
    "matrix = confusion_matrix(test_target, y_prediction)\n",
    "matrix = matrix.astype('float') / matrix.sum(axis=1)[:, np.newaxis]\n",
    "\n",
    "#plot\n",
    "plt.figure(figsize=(16,7))\n",
    "sns.set(font_scale=1.4)\n",
    "sns.heatmap(matrix, annot=True, annot_kws={'size':10},\n",
    "           cmap=plt.cm.Greens, linewidths=0.2)\n",
    "\n",
    "#add labels to plot\n",
    "\n",
    "class_names = [1,2,3,4,5,6,7,8,9,10,11,12,13] #all possible resultkeys\n",
    "\n",
    "tick_marks = np.arange(len(class_names))\n",
    "tick_marks2 = tick_marks + 0.5\n",
    "\n",
    "plt.xticks(tick_marks, class_names, rotation = 25)\n",
    "plt.yticks(tick_marks2, class_names, rotation = 0)\n",
    "plt.xlabel('Predicted Label')\n",
    "plt.ylabel('True Label')\n",
    "\n",
    "plt.title('Confusion Matrix for Random Forest Model')\n",
    "plt.show()"
   ]
  },
  {
   "cell_type": "code",
   "execution_count": 38,
   "id": "lucky-progress",
   "metadata": {},
   "outputs": [
    {
     "name": "stdout",
     "output_type": "stream",
     "text": [
      "        action_cat  contraband_cat  exp_years  stop_cat  stopduration\n",
      "0               14               7         10         6            30\n",
      "1               14               7         18         7            10\n",
      "2                7               7          1         6            15\n",
      "3                7               7          1         6            15\n",
      "4               14               7          3         7             5\n",
      "...            ...             ...        ...       ...           ...\n",
      "529595          12               7          1         6           120\n",
      "529596          12               7          1         6           180\n",
      "529597          14               7          1         6            20\n",
      "529598          14               7          1         6            20\n",
      "529599          15               0         15         6           120\n",
      "\n",
      "[529600 rows x 5 columns]\n"
     ]
    }
   ],
   "source": [
    "#lets grab only the columns we want \n",
    "\n",
    "select_data = model_data_df[np.intersect1d(model_data_df.columns, top_five_features)]\n",
    "\n",
    "print(select_data)"
   ]
  },
  {
   "cell_type": "code",
   "execution_count": 39,
   "id": "846995e7",
   "metadata": {},
   "outputs": [
    {
     "name": "stdout",
     "output_type": "stream",
     "text": [
      "Counter({3: 129497, 7: 106090, 2: 97391, 1: 70342, 6: 47748, 4: 27495, 10: 22759, 5: 17813, 8: 9128, 9: 1291, 12: 29, 11: 11, 13: 6})\n",
      "Counter({3: 103542, 7: 84615, 2: 78010, 1: 56617, 6: 38099, 4: 21915, 10: 18250, 5: 14277, 8: 7294, 9: 1025, 12: 22, 11: 10, 13: 4})\n",
      "Counter({3: 25955, 7: 21475, 2: 19381, 1: 13725, 6: 9649, 4: 5580, 10: 4509, 5: 3536, 8: 1834, 9: 266, 12: 7, 13: 2, 11: 1})\n"
     ]
    }
   ],
   "source": [
    "#now split data\n",
    "from sklearn.model_selection import train_test_split\n",
    "\n",
    "X_train, X_test, Y_train, Y_test = train_test_split(select_data, target,\n",
    "                                                   test_size = 0.2, \n",
    "                                                   random_state = 42,\n",
    "                                                   stratify = target)\n",
    "\n",
    "#see if strafiying preserved the balance\n",
    "from collections import Counter\n",
    "print(Counter(target))\n",
    "print(Counter(train_target))\n",
    "print(Counter(test_target))"
   ]
  },
  {
   "cell_type": "code",
   "execution_count": 40,
   "id": "932272aa",
   "metadata": {},
   "outputs": [],
   "source": [
    "refined_rnd_clf = RandomForestClassifier(n_estimators = 500, max_leaf_nodes = 16, n_jobs = 1, random_state = 42)\n",
    "refined_rnd_clf.fit(X_train, Y_train)\n",
    "\n",
    "y_pred_refined_rf = refined_rnd_clf.predict(X_test)"
   ]
  },
  {
   "cell_type": "code",
   "execution_count": 41,
   "id": "f03180dd",
   "metadata": {},
   "outputs": [
    {
     "name": "stdout",
     "output_type": "stream",
     "text": [
      "0.45890294561933537\n"
     ]
    }
   ],
   "source": [
    "#get accuracy score \n",
    "refined_tree_acc = accuracy_score(Y_test, y_pred_refined_rf)\n",
    "print(refined_tree_acc)"
   ]
  },
  {
   "cell_type": "code",
   "execution_count": 42,
   "id": "8c7ae8f2",
   "metadata": {},
   "outputs": [],
   "source": [
    "forest = RandomForestClassifier(n_estimators = 500, random_state=42)"
   ]
  },
  {
   "cell_type": "code",
   "execution_count": 43,
   "id": "99a18938",
   "metadata": {},
   "outputs": [
    {
     "name": "stderr",
     "output_type": "stream",
     "text": [
      "/opt/anaconda3/lib/python3.8/site-packages/sklearn/model_selection/_search.py:285: UserWarning: The total space of parameters 216 is smaller than n_iter=3259. Running 216 iterations. For exhaustive searches, use GridSearchCV.\n",
      "  warnings.warn(\n"
     ]
    },
    {
     "data": {
      "text/plain": [
       "HalvingRandomSearchCV(estimator=RandomForestClassifier(n_estimators=500,\n",
       "                                                       random_state=42),\n",
       "                      factor=4, n_jobs=-1,\n",
       "                      param_distributions={'max_depth': [10, 20, 30, 40, 50, 60,\n",
       "                                                         70, 80, 90, 100, 110,\n",
       "                                                         None],\n",
       "                                           'max_features': ['auto', 'log2'],\n",
       "                                           'min_samples_leaf': [1, 2, 4],\n",
       "                                           'min_samples_split': [2, 4, 10]},\n",
       "                      random_state=42,\n",
       "                      refit=<function _refit_callable at 0x7fc5970e85e0>)"
      ]
     },
     "execution_count": 43,
     "metadata": {},
     "output_type": "execute_result"
    }
   ],
   "source": [
    "search_forest = HalvingRandomSearchCV(forest, param_distributions = grid, \n",
    "                           random_state = 42, n_jobs=-1,\n",
    "                                   n_candidates = \"exhaust\",\n",
    "                                   factor=4\n",
    "                                  )\n",
    "\n",
    "search_forest.fit(X_train, Y_train)"
   ]
  },
  {
   "cell_type": "code",
   "execution_count": 44,
   "id": "ee692bbf",
   "metadata": {},
   "outputs": [
    {
     "name": "stdout",
     "output_type": "stream",
     "text": [
      "0.4934667673716012\n"
     ]
    }
   ],
   "source": [
    "#get accuracy score \n",
    "\n",
    "refined_forest_y_prediction = search_forest.predict(X_test)\n",
    "\n",
    "print(accuracy_score(Y_test, refined_forest_y_prediction))"
   ]
  },
  {
   "cell_type": "code",
   "execution_count": null,
   "id": "a7ea1ae3",
   "metadata": {},
   "outputs": [],
   "source": []
  }
 ],
 "metadata": {
  "kernelspec": {
   "display_name": "Python 3",
   "language": "python",
   "name": "python3"
  },
  "language_info": {
   "codemirror_mode": {
    "name": "ipython",
    "version": 3
   },
   "file_extension": ".py",
   "mimetype": "text/x-python",
   "name": "python",
   "nbconvert_exporter": "python",
   "pygments_lexer": "ipython3",
   "version": "3.8.8"
  }
 },
 "nbformat": 4,
 "nbformat_minor": 5
}
