{
 "cells": [
  {
   "cell_type": "code",
   "execution_count": 2,
   "id": "eaa2e8e9",
   "metadata": {},
   "outputs": [],
   "source": [
    "# read in appropriate dataset \n",
    "%store -r ripa_data"
   ]
  },
  {
   "cell_type": "code",
   "execution_count": null,
   "id": "6f69d86f",
   "metadata": {},
   "outputs": [],
   "source": [
    "#import libraries "
   ]
  }
 ],
 "metadata": {
  "kernelspec": {
   "display_name": "Python 3",
   "language": "python",
   "name": "python3"
  },
  "language_info": {
   "codemirror_mode": {
    "name": "ipython",
    "version": 3
   },
   "file_extension": ".py",
   "mimetype": "text/x-python",
   "name": "python",
   "nbconvert_exporter": "python",
   "pygments_lexer": "ipython3",
   "version": "3.8.8"
  }
 },
 "nbformat": 4,
 "nbformat_minor": 5
}
