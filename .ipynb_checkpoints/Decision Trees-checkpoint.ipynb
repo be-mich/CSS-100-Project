{
 "cells": [
  {
   "cell_type": "code",
   "execution_count": 2,
   "id": "caf00345",
   "metadata": {},
   "outputs": [],
   "source": [
    "#import libraries\n",
    "import pandas as pd \n",
    "import numpy as np\n",
    "from sklearn.tree import DecisionTreeClassifier\n",
    "from sklearn.tree import export_graphviz"
   ]
  },
  {
   "cell_type": "code",
   "execution_count": 3,
   "id": "05f4192e",
   "metadata": {},
   "outputs": [],
   "source": [
    "#import data\n",
    "%store -r train_data\n",
    "%store -r test_data\n",
    "%store -r train_target\n",
    "%store -r test_target"
   ]
  },
  {
   "cell_type": "code",
   "execution_count": null,
   "id": "e69e9bce",
   "metadata": {},
   "outputs": [],
   "source": []
  }
 ],
 "metadata": {
  "kernelspec": {
   "display_name": "Python 3",
   "language": "python",
   "name": "python3"
  },
  "language_info": {
   "codemirror_mode": {
    "name": "ipython",
    "version": 3
   },
   "file_extension": ".py",
   "mimetype": "text/x-python",
   "name": "python",
   "nbconvert_exporter": "python",
   "pygments_lexer": "ipython3",
   "version": "3.8.8"
  }
 },
 "nbformat": 4,
 "nbformat_minor": 5
}
